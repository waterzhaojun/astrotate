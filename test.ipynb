{
 "metadata": {
  "language_info": {
   "codemirror_mode": {
    "name": "ipython",
    "version": 3
   },
   "file_extension": ".py",
   "mimetype": "text/x-python",
   "name": "python",
   "nbconvert_exporter": "python",
   "pygments_lexer": "ipython3",
   "version": "3.7.4"
  },
  "orig_nbformat": 4,
  "kernelspec": {
   "name": "lab",
   "display_name": "Python 3.7.4 64-bit ('lab': conda)"
  },
  "interpreter": {
   "hash": "625ee71e8a022a3a099a626e3ee6b28c21a383ae661efb1e3d5a2dbc546109fe"
  }
 },
 "nbformat": 4,
 "nbformat_minor": 2,
 "cells": [
  {
   "cell_type": "code",
   "execution_count": 6,
   "metadata": {},
   "outputs": [],
   "source": [
    "import db_to_csv as dc\n",
    "import pandas as pd"
   ]
  },
  {
   "cell_type": "code",
   "execution_count": 2,
   "metadata": {},
   "outputs": [],
   "source": [
    "res = dc.transfer_ihc_info()"
   ]
  },
  {
   "cell_type": "code",
   "execution_count": 3,
   "metadata": {},
   "outputs": [
    {
     "output_type": "execute_result",
     "data": {
      "text/plain": [
       "23"
      ]
     },
     "metadata": {},
     "execution_count": 3
    }
   ],
   "source": [
    "len(res)"
   ]
  },
  {
   "cell_type": "code",
   "execution_count": 5,
   "metadata": {},
   "outputs": [
    {
     "output_type": "execute_result",
     "data": {
      "text/plain": [
       "('DL185',\n",
       " datetime.date(2020, 2, 28),\n",
       " None,\n",
       " ['dura', 'TG', 'brain', 'SpinalCord', 'DRG', 'SciaticNerve', 'muscle'],\n",
       " [{'type': 'primary',\n",
       "   'antibody': 'DsRed from rabbit',\n",
       "   'duration': '2days',\n",
       "   'concentration': '1:600'}],\n",
       " [{'type': 'secondary',\n",
       "   'antibody': '594 Goat anti Rabbit',\n",
       "   'duration': '2h',\n",
       "   'concentration': '1:250'}],\n",
       " 11)"
      ]
     },
     "metadata": {},
     "execution_count": 5
    }
   ],
   "source": [
    "res[5]"
   ]
  },
  {
   "cell_type": "code",
   "execution_count": null,
   "metadata": {},
   "outputs": [],
   "source": [
    "df = pd.DataFrame(columns = ['animalid', 'date', 'note', ])"
   ]
  }
 ]
}