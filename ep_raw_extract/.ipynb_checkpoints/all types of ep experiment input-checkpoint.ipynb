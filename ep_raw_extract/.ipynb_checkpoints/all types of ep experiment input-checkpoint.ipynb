{
 "cells": [
  {
   "cell_type": "code",
   "execution_count": 1,
   "metadata": {},
   "outputs": [],
   "source": [
    "import pandas as pd\n",
    "import json\n",
    "import os\n",
    "import numpy as np\n",
    "import matplotlib.pyplot as pplot\n",
    "import sys\n",
    "sys.path.insert(0, '../..')\n",
    "from astrotate import array, ep, utils\n",
    "import importlib\n",
    "import shutil"
   ]
  },
  {
   "cell_type": "code",
   "execution_count": null,
   "metadata": {},
   "outputs": [],
   "source": [
    "importlib.reload(ep)\n",
    "importlib.reload(utils)"
   ]
  },
  {
   "cell_type": "code",
   "execution_count": null,
   "metadata": {},
   "outputs": [],
   "source": [
    "# !git\n"
   ]
  },
  {
   "cell_type": "markdown",
   "metadata": {},
   "source": [
    "# Define the experiment folder"
   ]
  },
  {
   "cell_type": "code",
   "execution_count": 4,
   "metadata": {},
   "outputs": [],
   "source": [
    "exp_date = '190926' # <==== set experiment date as folder name.\n",
    "\n",
    "exp_folder = 'C:\\\\Shared_Experimental_Data' # Don't need to change if you use it in this computer.\n",
    "\n",
    "# ===================don't change below part =======================================================\n",
    "today_folder = os.path.join(exp_folder, exp_date)  \n",
    "template_file = 'data_log_template.xlsx'\n",
    "target_template_file = os.path.join(today_folder, template_file)\n",
    "if not os.path.exists(target_template_file):\n",
    "    shutil.copyfile(template_file, target_template_file)"
   ]
  },
  {
   "cell_type": "markdown",
   "metadata": {},
   "source": [
    "## please fill the form then run the next step"
   ]
  },
  {
   "cell_type": "code",
   "execution_count": 5,
   "metadata": {},
   "outputs": [],
   "source": [
    "treatment_df = pd.read_excel(target_template_file, sheet_name = 'treatment').astype({'trial': 'str'})\n",
    "trial_df = pd.read_excel(target_template_file, sheet_name = 'trials').astype({'trial': 'str'})\n",
    "channel_df = pd.read_excel(target_template_file, sheet_name = 'channel').dropna(subset=['channel_name'], inplace=False)"
   ]
  },
  {
   "cell_type": "code",
   "execution_count": 6,
   "metadata": {},
   "outputs": [],
   "source": [
    "def bint1D(array, binsize, setint = False):\n",
    "    # smooth 1D array\n",
    "    remains = len(array) % binsize\n",
    "    array1 = np.reshape(array[0:len(array)-remains], [-1, binsize])\n",
    "    array2 = np.mean(array1, axis = 1)\n",
    "    if remains > binsize/2:\n",
    "        array2 = np.append(array2, np.mean(array[-remains:]))\n",
    "    if setint:\n",
    "        array2 = np.around(array2).astype(int)\n",
    "    return(array2)\n",
    "\n",
    "def get_array(expfolder = today_folder, treatment_df = treatment_df, trial_df = trial_df, channel_df = channel_df):\n",
    "    \n",
    "    #treatment_df = treatment_df.astype({'trial': 'str'}) # after load from csv, the trial is int64\n",
    "    trials = os.listdir(expfolder)\n",
    "    required_trials = [str(x)+'.txt' for x in trial_df.loc[:, 'trial'].values]\n",
    "    files = [os.path.join(expfolder,x) for x in trials if x.split('-')[-1] in required_trials]\n",
    "    \n",
    "    files.sort()\n",
    "    data = {}\n",
    "    for i in range(len(channel_df)):\n",
    "        thetype = channel_df.loc[i, 'data_type']\n",
    "        data[thetype] = {'present_length':0, 'data':[], 'treat_point': {}, 'bin_size':str(channel_df.loc[i, 'output_bin_secsize'])+'sec'}\n",
    "        channel = channel_df.loc[i, 'channel_name']\n",
    "        scanRate = channel_df.loc[i, 'output_bin_secsize']\n",
    "        print('start to extract %s data' % thetype)\n",
    "\n",
    "        for j in range(len(files)):\n",
    "            file = files[j]\n",
    "            outputRate = trial_df.loc[i, 'output_freq']\n",
    "            df = pd.read_csv(file, sep = '\\t')\n",
    "            values = df.loc[:, channel].values\n",
    "            values = values[~np.isnan(values)]\n",
    "            values = bint1D(values, int(scanRate*outputRate), setint = (channel in ['multiunit']))\n",
    "            data[thetype]['data'] = np.append(data[thetype]['data'], values)\n",
    "\n",
    "            tmp_trial = file.split('-')[-1][0:-4]\n",
    "            #timepoint_df.loc[len(timepoint_df), :] = [tmp_trial, len(values)]\n",
    "            print('%s done, length is %d' % (file, len(values)))\n",
    "            if tmp_trial in treatment_df.loc[:, 'trial'].tolist():\n",
    "                \n",
    "                tmp_row = treatment_df.index[treatment_df.loc[:, 'trial'] == tmp_trial].tolist()[0]\n",
    "                tmp_id = str(treatment_df.loc[tmp_row, 'treatment_id'])\n",
    "                tmp_sec = treatment_df.loc[tmp_row, 'sec']#.value#astype(float)\n",
    "                print(tmp_trial, tmp_id, tmp_sec)\n",
    "                data[thetype]['treat_point'][tmp_id] = data[thetype]['present_length'] + int(tmp_sec/scanRate)\n",
    "                print(data[thetype]['present_length'], int(tmp_sec/outputRate))\n",
    "                print(data[thetype]['treat_point'][tmp_id])\n",
    "\n",
    "            data[thetype]['present_length'] = data[thetype]['present_length'] + len(values)\n",
    "    return(data)\n",
    "    \n",
    "def create_data_info(data):\n",
    "    datainfo = {}\n",
    "    for key, value in data.items():\n",
    "        datainfo[key] = {}\n",
    "        datainfo[key]['treat_point'] = value['treat_point']\n",
    "        datainfo[key]['bin_size'] = value['bin_size']\n",
    "        datainfo[key]['file_path'] = key+'.csv'\n",
    "        \n",
    "        if key == 'bf':\n",
    "            fmt = '%.3e'\n",
    "            \n",
    "        elif key == 'multiunit':\n",
    "            fmt = '%d'\n",
    "            \n",
    "        elif key == 'ECoG':\n",
    "            fmt = '%.4e'\n",
    "            \n",
    "        np.savetxt(os.path.join(today_folder, datainfo[key]['file_path']), value['data'], fmt = fmt)\n",
    "        print('%s data saved at %s' % (key, os.path.join(today_folder, datainfo[key]['file_path'])))\n",
    "    \n",
    "    utils.writejson(os.path.join(today_folder, 'datainfo.json'), datainfo)\n",
    "    return(datainfo)\n",
    "\n",
    "def tidy_ecog_data(datainfo, csdkey): # As ECoG data pretty big, I don't want to save whole period. Now I will just save from 10 min before CSD and 1 h after CSD.\n",
    "    data = np.loadtxt(os.path.join(today_folder, datainfo['ECoG']['file_path']))\n",
    "    points_before_csd = 10 * 60 / float(datainfo['ECoG']['bin_size'][:-3])\n",
    "    points_after_csd = 60 * 60 / float(datainfo['ECoG']['bin_size'][:-3])\n",
    "    t0 = int(datainfo['ECoG']['treat_point'][csdkey] - points_before_csd)\n",
    "    t1 = int(datainfo['ECoG']['treat_point'][csdkey] + points_after_csd)\n",
    "    newdata = data[t0:t1]\n",
    "    np.savetxt(os.path.join(today_folder, datainfo['ECoG']['file_path']), newdata)\n",
    "    newdic = {}\n",
    "    for key, value in datainfo['ECoG']['treat_point'].items():\n",
    "        if value - t0 > 0:\n",
    "            newdic[key] = value - t0\n",
    "    datainfo['ECoG']['treat_point'] = newdic\n",
    "    utils.writejson(os.path.join(today_folder, 'datainfo.json'), datainfo)\n",
    "    \n",
    "    \n",
    "\n",
    "\n",
    "        \n",
    "    "
   ]
  },
  {
   "cell_type": "code",
   "execution_count": 7,
   "metadata": {},
   "outputs": [
    {
     "name": "stdout",
     "output_type": "stream",
     "text": [
      "start to extract bf data\n",
      "C:\\Shared_Experimental_Data\\190926\\spon-Sep-26-19-12-38-2454.txt done, length is 360\n",
      "2454 0 0\n",
      "0 0\n",
      "0\n",
      "C:\\Shared_Experimental_Data\\190926\\spon-Sep-26-19-13-08-2455.txt done, length is 360\n",
      "C:\\Shared_Experimental_Data\\190926\\spon-Sep-26-19-13-41-2456.txt done, length is 360\n",
      "2456 1 0\n",
      "720 0\n",
      "720\n",
      "C:\\Shared_Experimental_Data\\190926\\spon-Sep-26-19-14-11-2457.txt done, length is 360\n",
      "C:\\Shared_Experimental_Data\\190926\\spon-Sep-26-19-14-41-2458.txt done, length is 360\n",
      "2458 2 300\n",
      "1440 0\n",
      "1500\n",
      "C:\\Shared_Experimental_Data\\190926\\spon-Sep-26-19-15-11-2459.txt done, length is 360\n",
      "C:\\Shared_Experimental_Data\\190926\\spon-Sep-26-19-15-42-2460.txt done, length is 360\n",
      "start to extract multiunit data\n",
      "C:\\Shared_Experimental_Data\\190926\\spon-Sep-26-19-12-38-2454.txt done, length is 1800\n",
      "2454 0 0\n",
      "0 0\n",
      "0\n",
      "C:\\Shared_Experimental_Data\\190926\\spon-Sep-26-19-13-08-2455.txt done, length is 1800\n",
      "C:\\Shared_Experimental_Data\\190926\\spon-Sep-26-19-13-41-2456.txt done, length is 1800\n",
      "2456 1 0\n",
      "3600 0\n",
      "3600\n",
      "C:\\Shared_Experimental_Data\\190926\\spon-Sep-26-19-14-11-2457.txt done, length is 1800\n",
      "C:\\Shared_Experimental_Data\\190926\\spon-Sep-26-19-14-41-2458.txt done, length is 1800\n",
      "2458 2 300\n",
      "7200 0\n",
      "7500\n",
      "C:\\Shared_Experimental_Data\\190926\\spon-Sep-26-19-15-11-2459.txt done, length is 1800\n",
      "C:\\Shared_Experimental_Data\\190926\\spon-Sep-26-19-15-42-2460.txt done, length is 1800\n",
      "start to extract ECoG data\n",
      "C:\\Shared_Experimental_Data\\190926\\spon-Sep-26-19-12-38-2454.txt done, length is 1800261\n",
      "2454 0 0\n",
      "0 0\n",
      "0\n",
      "C:\\Shared_Experimental_Data\\190926\\spon-Sep-26-19-13-08-2455.txt done, length is 1800169\n",
      "C:\\Shared_Experimental_Data\\190926\\spon-Sep-26-19-13-41-2456.txt done, length is 1800181\n",
      "2456 1 0\n",
      "3600430 0\n",
      "3600430\n",
      "C:\\Shared_Experimental_Data\\190926\\spon-Sep-26-19-14-11-2457.txt done, length is 1800074\n",
      "C:\\Shared_Experimental_Data\\190926\\spon-Sep-26-19-14-41-2458.txt done, length is 1800171\n",
      "2458 2 300\n",
      "7200685 0\n",
      "7500685\n",
      "C:\\Shared_Experimental_Data\\190926\\spon-Sep-26-19-15-11-2459.txt done, length is 1800147\n",
      "C:\\Shared_Experimental_Data\\190926\\spon-Sep-26-19-15-42-2460.txt done, length is 1800066\n"
     ]
    }
   ],
   "source": [
    "data = get_array()"
   ]
  },
  {
   "cell_type": "code",
   "execution_count": 8,
   "metadata": {},
   "outputs": [
    {
     "name": "stdout",
     "output_type": "stream",
     "text": [
      "bf data saved at C:\\Shared_Experimental_Data\\190926\\bf.csv\n",
      "multiunit data saved at C:\\Shared_Experimental_Data\\190926\\multiunit.csv\n",
      "ECoG data saved at C:\\Shared_Experimental_Data\\190926\\ECoG.csv\n",
      "{'bf': {'treat_point': {'0': 0, '1': 720, '2': 1500}, 'bin_size': '5.0sec', 'file_path': 'bf.csv'}, 'multiunit': {'treat_point': {'0': 0, '1': 3600, '2': 7500}, 'bin_size': '1.0sec', 'file_path': 'multiunit.csv'}, 'ECoG': {'treat_point': {'0': 0, '1': 3600430, '2': 7500685}, 'bin_size': '0.001sec', 'file_path': 'ECoG.csv'}}\n"
     ]
    }
   ],
   "source": [
    "datainfo = create_data_info(data) # This function will create both datainfo.json and also save data to each csv files.\n",
    "print(datainfo)"
   ]
  },
  {
   "cell_type": "code",
   "execution_count": 9,
   "metadata": {},
   "outputs": [],
   "source": [
    "# This is a dangerous function. Please make sure your parameters before you run this function. \n",
    "# It will crop your data and overwrite the old file.\n",
    "\n",
    "tidy_ecog_data(datainfo, '2') "
   ]
  },
  {
   "cell_type": "markdown",
   "metadata": {},
   "source": [
    "# Check the output"
   ]
  },
  {
   "cell_type": "code",
   "execution_count": 12,
   "metadata": {},
   "outputs": [
    {
     "name": "stdout",
     "output_type": "stream",
     "text": [
      "12600\n"
     ]
    },
    {
     "data": {
      "text/plain": [
       "[<matplotlib.lines.Line2D at 0x399aa50>]"
      ]
     },
     "execution_count": 12,
     "metadata": {},
     "output_type": "execute_result"
    },
    {
     "data": {
      "image/png": "[encoded data removed]",
      "text/plain": [
       "<Figure size 432x288 with 1 Axes>"
      ]
     },
     "metadata": {
      "needs_background": "light"
     },
     "output_type": "display_data"
    }
   ],
   "source": [
    "# The channel you want to check:\n",
    "channel = 'multiunit' # bf multiunit ECoG\n",
    "d = np.loadtxt(os.path.join(os.path.join(today_folder, channel+'.csv')))\n",
    "print(len(d))\n",
    "pplot.plot(d)"
   ]
  },
  {
   "cell_type": "code",
   "execution_count": null,
   "metadata": {},
   "outputs": [],
   "source": [
    "# np.savetxt(os.path.join(exp_folder, output_file_name), data, fmt='%.4e', delimiter=\",\")"
   ]
  },
  {
   "cell_type": "code",
   "execution_count": null,
   "metadata": {},
   "outputs": [],
   "source": []
  }
 ],
 "metadata": {
  "kernelspec": {
   "display_name": "Python 3",
   "language": "python",
   "name": "python3"
  },
  "language_info": {
   "codemirror_mode": {
    "name": "ipython",
    "version": 3
   },
   "file_extension": ".py",
   "mimetype": "text/x-python",
   "name": "python",
   "nbconvert_exporter": "python",
   "pygments_lexer": "ipython3",
   "version": "3.7.0"
  }
 },
 "nbformat": 4,
 "nbformat_minor": 2
}
