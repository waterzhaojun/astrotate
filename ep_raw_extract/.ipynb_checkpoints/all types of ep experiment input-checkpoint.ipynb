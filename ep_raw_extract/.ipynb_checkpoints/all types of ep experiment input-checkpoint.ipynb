{
 "cells": [
  {
   "cell_type": "code",
   "execution_count": 3,
   "metadata": {},
   "outputs": [],
   "source": [
    "import pandas as pd\n",
    "import json\n",
    "import os\n",
    "import numpy as np\n",
    "import matplotlib.pyplot as pplot\n",
    "\n",
    "from astrotate import array, utils, server, treatment\n",
    "from astrotate.ep import ep\n",
    "import importlib\n",
    "import shutil\n",
    "from datetime import datetime"
   ]
  },
  {
   "cell_type": "code",
   "execution_count": null,
   "metadata": {},
   "outputs": [],
   "source": [
    "importlib.reload(ep)\n",
    "importlib.reload(utils)"
   ]
  },
  {
   "cell_type": "code",
   "execution_count": null,
   "metadata": {},
   "outputs": [],
   "source": [
    "# !git\n"
   ]
  },
  {
   "cell_type": "markdown",
   "metadata": {},
   "source": [
    "# Define the experiment folder"
   ]
  },
  {
   "cell_type": "code",
   "execution_count": 82,
   "metadata": {},
   "outputs": [],
   "source": [
    "exp_date = '191112' # <==== set experiment date as folder name.\n",
    "\n",
    "exp_folder = '/Users/Melody/Documents/expdata'\n",
    "#'C:\\\\Shared_Experimental_Data' # Don't need to change if you use it in this computer.\n",
    "\n",
    "# ===================don't change below part =======================================================\n",
    "today_folder = os.path.join(exp_folder, exp_date)  \n",
    "template_file = 'data_log_template.xlsx'\n",
    "target_template_file = os.path.join(today_folder, template_file)\n",
    "if not os.path.exists(target_template_file):\n",
    "    shutil.copyfile(template_file, target_template_file)"
   ]
  },
  {
   "cell_type": "markdown",
   "metadata": {},
   "source": [
    "## Animal info"
   ]
  },
  {
   "cell_type": "code",
   "execution_count": 83,
   "metadata": {},
   "outputs": [],
   "source": [
    "date = datetime.strptime(exp_date, '%y%m%d')\n",
    "animalid = 'A'+date.strftime('%Y%m%d')+'01'\n",
    "\n",
    "gender = 'M' # M F\n",
    "species = 'rat' # rat mouse\n",
    "strain = 'SD' # SD    C57BL/6J\n",
    "weight = 464\n",
    "\n",
    "animalinfo = {}\n",
    "animalinfo['sub_bleeding']= 'N'\n",
    "animalinfo['brain_bloom'] = 'N'\n",
    "animalinfo['give_oxygen'] = 'Y'\n",
    "#treatment = info['treatment']\n",
    "\n",
    "pilot = False"
   ]
  },
  {
   "cell_type": "code",
   "execution_count": 4,
   "metadata": {},
   "outputs": [
    {
     "name": "stdin",
     "output_type": "stream",
     "text": [
      "=== baseline treatment start time.===\n",
      "Press Enter to leave it blank. Input 1 for present time. Input HH:MM for certain time:  \n",
      "=== baseline treatment start date.===\n",
      "Press Enter to ignore this.\n",
      "Input 1 for today.\n",
      "Input mm-dd-yyyy for detail date:  \n"
     ]
    },
    {
     "name": "stdout",
     "output_type": "stream",
     "text": [
      "Treatment operator:  Press Enter for Jun Zhao\n",
      "0 ---> Jun Zhao\n",
      "1 ---> Dara Bree\n",
      "2 ---> Andrew Blaeser\n"
     ]
    },
    {
     "name": "stdin",
     "output_type": "stream",
     "text": [
      "Select by idx:  \n",
      "input your note for baseline treatment:  \n",
      "=== CSD treatment start time.===\n",
      "Press Enter to leave it blank. Input 1 for present time. Input HH:MM for certain time:  \n",
      "=== CSD treatment start date.===\n",
      "Press Enter to ignore this.\n",
      "Input 1 for today.\n",
      "Input mm-dd-yyyy for detail date:  \n"
     ]
    },
    {
     "name": "stdout",
     "output_type": "stream",
     "text": [
      "Treatment operator:  Press Enter for Jun Zhao\n",
      "0 ---> Jun Zhao\n",
      "1 ---> Dara Bree\n",
      "2 ---> Andrew Blaeser\n"
     ]
    },
    {
     "name": "stdin",
     "output_type": "stream",
     "text": [
      "Select by idx:  \n",
      "input your note for CSD treatment:  \n"
     ]
    },
    {
     "name": "stdout",
     "output_type": "stream",
     "text": [
      "Choose CSD method: \n",
      "0 ---> pinprick\n",
      "1 ---> KCl\n"
     ]
    },
    {
     "name": "stdin",
     "output_type": "stream",
     "text": [
      "Select by idx:  0\n"
     ]
    }
   ],
   "source": [
    "t={}\n",
    "t['0'] = treatment.Baseline().toDict()\n",
    "t['1'] = treatment.CSD().toDict()"
   ]
  },
  {
   "cell_type": "code",
   "execution_count": 5,
   "metadata": {},
   "outputs": [
    {
     "data": {
      "text/plain": [
       "{'0': {'method': 'baseline',\n",
       "  'time': '',\n",
       "  'date': '',\n",
       "  'operator': 'Jun Zhao',\n",
       "  'parameters': {},\n",
       "  'note': ''},\n",
       " '1': {'method': 'CSD',\n",
       "  'time': '',\n",
       "  'date': '',\n",
       "  'operator': 'Jun Zhao',\n",
       "  'parameters': {'apply_method': 'pinprick'},\n",
       "  'note': ''}}"
      ]
     },
     "execution_count": 5,
     "metadata": {},
     "output_type": "execute_result"
    }
   ],
   "source": [
    "t"
   ]
  },
  {
   "cell_type": "code",
   "execution_count": 9,
   "metadata": {},
   "outputs": [],
   "source": [
    "#conn = server.connect_server()\n",
    "\n",
    "cur = conn.cursor()\n",
    "cur.execute(\n",
    "\"\"\"\n",
    "update ep_info \n",
    "set gender = 'M'\n",
    "where animalid = 'A2019110801'\n",
    "\"\"\"\n",
    ")\n",
    "conn.commit()\n",
    "conn.close()"
   ]
  },
  {
   "cell_type": "code",
   "execution_count": 86,
   "metadata": {},
   "outputs": [],
   "source": [
    "conn = server.connect_server()\n",
    "\n",
    "cur = conn.cursor()\n",
    "cur.execute(\n",
    "\"\"\"\n",
    "INSERT INTO ep_info (animalid, animalinfo, date, weight, gender, species, strain, treatment, pilot)\n",
    "VALUES (%s, %s, %s, %s, %s, %s, %s, %s)\n",
    "\"\"\", (animalid, json.dumps(animalinfo), date, weight, gender, species, strain, json.dumps(t), pilot)\n",
    ")\n",
    "conn.commit()"
   ]
  },
  {
   "cell_type": "markdown",
   "metadata": {},
   "source": [
    "## please fill the form then run the next step"
   ]
  },
  {
   "cell_type": "code",
   "execution_count": 56,
   "metadata": {},
   "outputs": [],
   "source": [
    "treatment_df = pd.read_excel(target_template_file, sheet_name = 'treatment').astype({'trial': 'str'})\n",
    "trial_df = pd.read_excel(target_template_file, sheet_name = 'trials').astype({'trial': 'str'})\n",
    "channel_df = pd.read_excel(target_template_file, sheet_name = 'channel').dropna(subset=['channel_name'], inplace=False).reset_index(inplace=False)"
   ]
  },
  {
   "cell_type": "code",
   "execution_count": 57,
   "metadata": {},
   "outputs": [
    {
     "data": {
      "text/html": [
       "<div>\n",
       "<style scoped>\n",
       "    .dataframe tbody tr th:only-of-type {\n",
       "        vertical-align: middle;\n",
       "    }\n",
       "\n",
       "    .dataframe tbody tr th {\n",
       "        vertical-align: top;\n",
       "    }\n",
       "\n",
       "    .dataframe thead th {\n",
       "        text-align: right;\n",
       "    }\n",
       "</style>\n",
       "<table border=\"1\" class=\"dataframe\">\n",
       "  <thead>\n",
       "    <tr style=\"text-align: right;\">\n",
       "      <th></th>\n",
       "      <th>index</th>\n",
       "      <th>data_type</th>\n",
       "      <th>channel_name</th>\n",
       "      <th>output_bin_secsize</th>\n",
       "    </tr>\n",
       "  </thead>\n",
       "  <tbody>\n",
       "    <tr>\n",
       "      <td>0</td>\n",
       "      <td>0</td>\n",
       "      <td>bf</td>\n",
       "      <td>1 BF</td>\n",
       "      <td>5.000</td>\n",
       "    </tr>\n",
       "    <tr>\n",
       "      <td>1</td>\n",
       "      <td>1</td>\n",
       "      <td>multiunit</td>\n",
       "      <td>5 TG</td>\n",
       "      <td>1.000</td>\n",
       "    </tr>\n",
       "    <tr>\n",
       "      <td>2</td>\n",
       "      <td>2</td>\n",
       "      <td>ECoG</td>\n",
       "      <td>7 highC</td>\n",
       "      <td>0.001</td>\n",
       "    </tr>\n",
       "  </tbody>\n",
       "</table>\n",
       "</div>"
      ],
      "text/plain": [
       "   index  data_type channel_name  output_bin_secsize\n",
       "0      0         bf         1 BF               5.000\n",
       "1      1  multiunit         5 TG               1.000\n",
       "2      2       ECoG      7 highC               0.001"
      ]
     },
     "execution_count": 57,
     "metadata": {},
     "output_type": "execute_result"
    }
   ],
   "source": [
    "channel_df"
   ]
  },
  {
   "cell_type": "code",
   "execution_count": 9,
   "metadata": {},
   "outputs": [],
   "source": [
    "def bint1D(array, binsize, setint = False):\n",
    "    # smooth 1D array\n",
    "    remains = len(array) % binsize\n",
    "    array1 = np.reshape(array[0:len(array)-remains], [-1, binsize])\n",
    "    array2 = np.mean(array1, axis = 1)\n",
    "    if remains > binsize/2:\n",
    "        array2 = np.append(array2, np.mean(array[-remains:]))\n",
    "    if setint:\n",
    "        array2 = np.around(array2).astype(int)\n",
    "    return(array2)\n",
    "\n",
    "def get_array(expfolder = today_folder, treatment_df = treatment_df, trial_df = trial_df, channel_df = channel_df):\n",
    "    \n",
    "    #treatment_df = treatment_df.astype({'trial': 'str'}) # after load from csv, the trial is int64\n",
    "    trials = os.listdir(expfolder)\n",
    "    required_trials = [str(x)+'.txt' for x in trial_df.loc[:, 'trial'].values]\n",
    "    files = [os.path.join(expfolder,x) for x in trials if x.split('-')[-1] in required_trials]\n",
    "    \n",
    "    files.sort()\n",
    "    data = {}\n",
    "    for i in range(len(channel_df)):\n",
    "        thetype = channel_df.loc[i, 'data_type']\n",
    "        data[thetype] = {'present_length':0, 'data':[], 'treat_point': {}, 'bin_size':str(channel_df.loc[i, 'output_bin_secsize'])+'sec'}\n",
    "        channel = channel_df.loc[i, 'channel_name']\n",
    "        scanRate = channel_df.loc[i, 'output_bin_secsize']\n",
    "        print('start to extract %s data' % thetype)\n",
    "\n",
    "        for j in range(len(files)):\n",
    "            file = files[j]\n",
    "            outputRate = trial_df.loc[i, 'output_freq']\n",
    "            df = pd.read_csv(file, sep = '\\t')\n",
    "            values = df.loc[:, channel].values\n",
    "            values = values[~np.isnan(values)]\n",
    "            values = bint1D(values, int(scanRate*outputRate), setint = (channel in ['multiunit']))\n",
    "            data[thetype]['data'] = np.append(data[thetype]['data'], values)\n",
    "\n",
    "            tmp_trial = file.split('-')[-1][0:-4]\n",
    "            #timepoint_df.loc[len(timepoint_df), :] = [tmp_trial, len(values)]\n",
    "            print('%s done, length is %d' % (file, len(values)))\n",
    "            if tmp_trial in treatment_df.loc[:, 'trial'].tolist():\n",
    "                \n",
    "                tmp_row = treatment_df.index[treatment_df.loc[:, 'trial'] == tmp_trial].tolist()[0]\n",
    "                tmp_id = str(treatment_df.loc[tmp_row, 'treatment_id'])\n",
    "                tmp_sec = treatment_df.loc[tmp_row, 'sec']#.value#astype(float)\n",
    "                # print(tmp_trial, tmp_id, tmp_sec)\n",
    "                data[thetype]['treat_point'][tmp_id] = data[thetype]['present_length'] + int(tmp_sec/scanRate)\n",
    "                # print(data[thetype]['present_length'], int(tmp_sec/outputRate))\n",
    "                # print(data[thetype]['treat_point'][tmp_id])\n",
    "\n",
    "            data[thetype]['present_length'] = data[thetype]['present_length'] + len(values)\n",
    "    return(data)\n",
    "    \n",
    "def create_data_info(data):\n",
    "    datainfo = {}\n",
    "    for key, value in data.items():\n",
    "        datainfo[key] = {}\n",
    "        datainfo[key]['treat_point'] = value['treat_point']\n",
    "        datainfo[key]['bin_size'] = value['bin_size']\n",
    "        datainfo[key]['file_path'] = key+'.csv'\n",
    "        \n",
    "        if key == 'bf':\n",
    "            fmt = '%.3e'\n",
    "            \n",
    "        elif key == 'multiunit':\n",
    "            fmt = '%d'\n",
    "            \n",
    "        elif key == 'ECoG':\n",
    "            fmt = '%.4e'\n",
    "            \n",
    "        np.savetxt(os.path.join(today_folder, datainfo[key]['file_path']), value['data'], fmt = fmt)\n",
    "        print('%s data saved at %s' % (key, os.path.join(today_folder, datainfo[key]['file_path'])))\n",
    "    \n",
    "    utils.writejson(os.path.join(today_folder, 'datainfo.json'), datainfo)\n",
    "    return(datainfo)\n",
    "\n",
    "def tidy_ecog_data(datainfo, csdkey): # As ECoG data pretty big, I don't want to save whole period. Now I will just save from 10 min before CSD and 1 h after CSD.\n",
    "    data = np.loadtxt(os.path.join(today_folder, datainfo['ECoG']['file_path']))\n",
    "    points_before_csd = 10 * 60 / float(datainfo['ECoG']['bin_size'][:-3])\n",
    "    points_after_csd = 60 * 60 / float(datainfo['ECoG']['bin_size'][:-3])\n",
    "    t0 = int(datainfo['ECoG']['treat_point'][csdkey] - points_before_csd)\n",
    "    t1 = int(datainfo['ECoG']['treat_point'][csdkey] + points_after_csd)\n",
    "    newdata = data[t0:t1]\n",
    "    np.savetxt(os.path.join(today_folder, datainfo['ECoG']['file_path']), newdata)\n",
    "    newdic = {}\n",
    "    for key, value in datainfo['ECoG']['treat_point'].items():\n",
    "        if value - t0 > 0:\n",
    "            newdic[key] = value - t0\n",
    "    datainfo['ECoG']['treat_point'] = newdic\n",
    "    utils.writejson(os.path.join(today_folder, 'datainfo.json'), datainfo)\n",
    "    \n",
    "    \n",
    "\n",
    "\n",
    "        \n",
    "    "
   ]
  },
  {
   "cell_type": "code",
   "execution_count": 58,
   "metadata": {},
   "outputs": [
    {
     "name": "stdout",
     "output_type": "stream",
     "text": [
      "start to extract bf data\n",
      "/Users/Melody/Documents/expdata/191113/spon-Nov-13-19-13-55-2558.txt done, length is 360\n",
      "/Users/Melody/Documents/expdata/191113/spon-Nov-13-19-14-25-2559.txt done, length is 360\n",
      "/Users/Melody/Documents/expdata/191113/spon-Nov-13-19-14-40-2560.txt done, length is 177\n",
      "start to extract multiunit data\n",
      "/Users/Melody/Documents/expdata/191113/spon-Nov-13-19-13-55-2558.txt done, length is 1800\n",
      "/Users/Melody/Documents/expdata/191113/spon-Nov-13-19-14-25-2559.txt done, length is 1800\n",
      "/Users/Melody/Documents/expdata/191113/spon-Nov-13-19-14-40-2560.txt done, length is 885\n",
      "start to extract ECoG data\n",
      "/Users/Melody/Documents/expdata/191113/spon-Nov-13-19-13-55-2558.txt done, length is 1800312\n",
      "/Users/Melody/Documents/expdata/191113/spon-Nov-13-19-14-25-2559.txt done, length is 1800458\n",
      "/Users/Melody/Documents/expdata/191113/spon-Nov-13-19-14-40-2560.txt done, length is 885471\n"
     ]
    }
   ],
   "source": [
    "data = get_array(expfolder = today_folder, treatment_df = treatment_df, trial_df = trial_df, channel_df = channel_df)"
   ]
  },
  {
   "cell_type": "code",
   "execution_count": 59,
   "metadata": {},
   "outputs": [
    {
     "data": {
      "text/plain": [
       "{'0': 0}"
      ]
     },
     "execution_count": 59,
     "metadata": {},
     "output_type": "execute_result"
    }
   ],
   "source": [
    "data['bf']['treat_point']"
   ]
  },
  {
   "cell_type": "code",
   "execution_count": 60,
   "metadata": {},
   "outputs": [
    {
     "name": "stdout",
     "output_type": "stream",
     "text": [
      "bf data saved at /Users/Melody/Documents/expdata/191113/bf.csv\n",
      "multiunit data saved at /Users/Melody/Documents/expdata/191113/multiunit.csv\n",
      "ECoG data saved at /Users/Melody/Documents/expdata/191113/ECoG.csv\n",
      "{'bf': {'treat_point': {'0': 0}, 'bin_size': '5.0sec', 'file_path': 'bf.csv'}, 'multiunit': {'treat_point': {'0': 0}, 'bin_size': '1.0sec', 'file_path': 'multiunit.csv'}, 'ECoG': {'treat_point': {'0': 0}, 'bin_size': '0.001sec', 'file_path': 'ECoG.csv'}}\n"
     ]
    }
   ],
   "source": [
    "datainfo = create_data_info(data) # This function will create both datainfo.json and also save data to each csv files.\n",
    "print(datainfo)"
   ]
  },
  {
   "cell_type": "code",
   "execution_count": 7,
   "metadata": {},
   "outputs": [],
   "source": [
    "# This is a dangerous function. Please make sure your parameters before you run this function. \n",
    "# It will crop your data and overwrite the old file.\n",
    "\n",
    "tidy_ecog_data(datainfo, '2') "
   ]
  },
  {
   "cell_type": "code",
   "execution_count": 63,
   "metadata": {},
   "outputs": [
    {
     "name": "stdout",
     "output_type": "stream",
     "text": [
      "{'bf': {'treat_point': {'0': 0, '1': 60}, 'bin_size': '5.0sec', 'file_path': 'bf.csv'}, 'multiunit': {'treat_point': {'0': 0, '1': 300}, 'bin_size': '1.0sec', 'file_path': 'multiunit.csv'}, 'ECoG': {'treat_point': {'0': 0, '1': 300000}, 'bin_size': '0.001sec', 'file_path': 'ECoG.csv'}}\n"
     ]
    }
   ],
   "source": [
    "datainfo['ECoG']['treat_point'] = {'0':0, '1':300000}\n",
    "print(datainfo)"
   ]
  },
  {
   "cell_type": "code",
   "execution_count": 64,
   "metadata": {},
   "outputs": [],
   "source": [
    "# add in bf db\n",
    "conn = server.connect_server()\n",
    "cur = conn.cursor()\n",
    "cur.execute(\n",
    "\"\"\"\n",
    "INSERT INTO ep_data_bf (animalid, treat_point, filepath)\n",
    "VALUES (%s, %s, %s)\n",
    "\"\"\", ('A'+datetime.strptime(exp_date, '%y%m%d').strftime('%Y%m%d')+'01', \n",
    "      json.dumps(datainfo['bf']['treat_point']), \n",
    "      'bf'+datetime.strptime(exp_date, '%y%m%d').strftime('%Y%m%d')+'01.csv'\n",
    "     )\n",
    ")\n",
    "conn.commit()\n",
    "conn.close()"
   ]
  },
  {
   "cell_type": "code",
   "execution_count": 65,
   "metadata": {},
   "outputs": [],
   "source": [
    "# add in ECoG db\n",
    "conn = server.connect_server()\n",
    "cur = conn.cursor()\n",
    "cur.execute(\n",
    "\"\"\"\n",
    "INSERT INTO ep_data_ecog (animalid, treat_point, filepath, scanrate)\n",
    "VALUES (%s, %s, %s, 1000)\n",
    "\"\"\", ('A'+datetime.strptime(exp_date, '%y%m%d').strftime('%Y%m%d')+'01', \n",
    "      json.dumps(datainfo['ECoG']['treat_point']), \n",
    "      'ecog'+datetime.strptime(exp_date, '%y%m%d').strftime('%Y%m%d')+'01.csv'\n",
    "     )\n",
    ")\n",
    "conn.commit()\n",
    "conn.close()"
   ]
  },
  {
   "cell_type": "code",
   "execution_count": 66,
   "metadata": {},
   "outputs": [],
   "source": [
    "# add in multiunit db\n",
    "conn = server.connect_server()\n",
    "cur = conn.cursor()\n",
    "cur.execute(\n",
    "\"\"\"\n",
    "INSERT INTO ep_data_multiunit (animalid, treat_point, filepath, scanrate)\n",
    "VALUES (%s, %s, %s, 1)\n",
    "\"\"\", ('A'+datetime.strptime(exp_date, '%y%m%d').strftime('%Y%m%d')+'01', \n",
    "      json.dumps(datainfo['multiunit']['treat_point']), \n",
    "      'multi'+datetime.strptime(exp_date, '%y%m%d').strftime('%Y%m%d')+'01.csv'\n",
    "     )\n",
    ")\n",
    "conn.commit()\n",
    "conn.close()"
   ]
  },
  {
   "cell_type": "markdown",
   "metadata": {},
   "source": [
    "# Check the output"
   ]
  },
  {
   "cell_type": "code",
   "execution_count": 14,
   "metadata": {},
   "outputs": [
    {
     "name": "stdout",
     "output_type": "stream",
     "text": [
      "4288916\n"
     ]
    },
    {
     "data": {
      "text/plain": [
       "[<matplotlib.lines.Line2D at 0x11f8df5d0>]"
      ]
     },
     "execution_count": 14,
     "metadata": {},
     "output_type": "execute_result"
    },
    {
     "data": {
      "image/png": "[encoded data removed]",
      "text/plain": [
       "<Figure size 432x288 with 1 Axes>"
      ]
     },
     "metadata": {
      "needs_background": "light"
     },
     "output_type": "display_data"
    }
   ],
   "source": [
    "# The channel you want to check:\n",
    "channel = 'ECoG' # bf multiunit ECoG\n",
    "d = np.loadtxt(os.path.join(os.path.join(today_folder, channel+'.csv')))\n",
    "print(len(d))\n",
    "pplot.plot(d)"
   ]
  },
  {
   "cell_type": "code",
   "execution_count": null,
   "metadata": {},
   "outputs": [],
   "source": [
    "# np.savetxt(os.path.join(exp_folder, output_file_name), data, fmt='%.4e', delimiter=\",\")"
   ]
  },
  {
   "cell_type": "code",
   "execution_count": null,
   "metadata": {},
   "outputs": [],
   "source": []
  }
 ],
 "metadata": {
  "kernelspec": {
   "display_name": "Python 3",
   "language": "python",
   "name": "python3"
  },
  "language_info": {
   "codemirror_mode": {
    "name": "ipython",
    "version": 3
   },
   "file_extension": ".py",
   "mimetype": "text/x-python",
   "name": "python",
   "nbconvert_exporter": "python",
   "pygments_lexer": "ipython3",
   "version": "3.7.4"
  }
 },
 "nbformat": 4,
 "nbformat_minor": 4
}
