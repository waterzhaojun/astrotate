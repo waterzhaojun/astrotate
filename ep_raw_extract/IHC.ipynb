{
 "cells": [
  {
   "cell_type": "code",
   "execution_count": 16,
   "metadata": {},
   "outputs": [],
   "source": [
    "from astrotate import server, ihc\n",
    "import importlib\n",
    "import json\n",
    "import psycopg2"
   ]
  },
  {
   "cell_type": "code",
   "execution_count": 3,
   "metadata": {},
   "outputs": [
    {
     "data": {
      "text/plain": [
       "<module 'astrotate.ihc' from '/Users/Melody/Documents/projects/astrotate/ihc.py'>"
      ]
     },
     "execution_count": 3,
     "metadata": {},
     "output_type": "execute_result"
    }
   ],
   "source": [
    "importlib.reload(ihc)"
   ]
  },
  {
   "cell_type": "code",
   "execution_count": 35,
   "metadata": {},
   "outputs": [],
   "source": [
    "tissue_list = ['dura', 'TG', 'SciaticNerve', 'DRG', 'brain', 'SpinalCord', 'muscle', 'skin']\n",
    "animalid = 'DL185'\n",
    "date = '2-28-2020'"
   ]
  },
  {
   "cell_type": "code",
   "execution_count": 4,
   "metadata": {},
   "outputs": [
    {
     "name": "stdout",
     "output_type": "stream",
     "text": [
      "=== antibody type ===\n",
      "0 ---> primary\n",
      "1 ---> secondary\n"
     ]
    },
    {
     "name": "stdin",
     "output_type": "stream",
     "text": [
      "Select by idx:  0\n"
     ]
    },
    {
     "name": "stdout",
     "output_type": "stream",
     "text": [
      "=== which antibody ===\n",
      "0 ---> GFAP from mouse\n",
      "1 ---> DsRed from rabbit\n"
     ]
    },
    {
     "name": "stdin",
     "output_type": "stream",
     "text": [
      "Select by idx:  1\n",
      "=== antibody concentration ===/n1:xxx, just input the second number by int:  600\n",
      "=== how long did it treat ===/nPress ENTER for overnight, or input a value like 4h 2days\n"
     ]
    }
   ],
   "source": [
    "primary = ihc.Antibody()"
   ]
  },
  {
   "cell_type": "code",
   "execution_count": 5,
   "metadata": {},
   "outputs": [
    {
     "name": "stdout",
     "output_type": "stream",
     "text": [
      "=== antibody type ===\n",
      "0 ---> primary\n",
      "1 ---> secondary\n"
     ]
    },
    {
     "name": "stdin",
     "output_type": "stream",
     "text": [
      "Select by idx:  1\n"
     ]
    },
    {
     "name": "stdout",
     "output_type": "stream",
     "text": [
      "=== which antibody ===\n",
      "0 ---> 488 Goat anti Mouse\n",
      "1 ---> 594 Goat anti Rabbit\n"
     ]
    },
    {
     "name": "stdin",
     "output_type": "stream",
     "text": [
      "Select by idx:  1\n",
      "=== antibody concentration ===/n1:xxx, just input the second number by int:  250\n",
      "=== how long did it treat ===/nPress ENTER for overnight, or input a value like 4h 2h\n"
     ]
    }
   ],
   "source": [
    "secondary = ihc.Antibody()"
   ]
  },
  {
   "cell_type": "code",
   "execution_count": 33,
   "metadata": {},
   "outputs": [],
   "source": [
    "conn = server.connect_server()"
   ]
  },
  {
   "cell_type": "code",
   "execution_count": 36,
   "metadata": {},
   "outputs": [],
   "source": [
    "cur = conn.cursor()\n",
    "cur.execute(\n",
    "\"\"\"\n",
    "INSERT INTO ihc_info\n",
    "VALUES (%s, %s, null, '{\"dura\", \"TG\", \"brain\", \"SpinalCord\", \"DRG\", \"SciaticNerve\", \"muscle\"}', %s, %s)\n",
    "\"\"\", (animalid, date, json.dumps(primary.to_dict()), json.dumps(secondary.to_dict()))\n",
    ")\n",
    "conn.commit()"
   ]
  },
  {
   "cell_type": "code",
   "execution_count": 31,
   "metadata": {},
   "outputs": [],
   "source": [
    "conn.rollback()"
   ]
  },
  {
   "cell_type": "code",
   "execution_count": 32,
   "metadata": {},
   "outputs": [],
   "source": [
    "conn.close()"
   ]
  },
  {
   "cell_type": "code",
   "execution_count": null,
   "metadata": {},
   "outputs": [],
   "source": []
  }
 ],
 "metadata": {
  "kernelspec": {
   "display_name": "lab",
   "language": "python",
   "name": "lab"
  },
  "language_info": {
   "codemirror_mode": {
    "name": "ipython",
    "version": 3
   },
   "file_extension": ".py",
   "mimetype": "text/x-python",
   "name": "python",
   "nbconvert_exporter": "python",
   "pygments_lexer": "ipython3",
   "version": "3.7.4"
  }
 },
 "nbformat": 4,
 "nbformat_minor": 4
}
