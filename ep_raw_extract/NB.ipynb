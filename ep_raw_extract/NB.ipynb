{
 "cells": [
  {
   "cell_type": "code",
   "execution_count": 1,
   "metadata": {},
   "outputs": [],
   "source": [
    "import psycopg2\n",
    "from astrotate import server"
   ]
  },
  {
   "cell_type": "code",
   "execution_count": 7,
   "metadata": {},
   "outputs": [],
   "source": [
    "conn = server.connect_server()"
   ]
  },
  {
   "cell_type": "markdown",
   "metadata": {},
   "source": [
    "## If you want to login a project notebook, go in this section."
   ]
  },
  {
   "cell_type": "code",
   "execution_count": 9,
   "metadata": {},
   "outputs": [],
   "source": [
    "des = 'Use IHC method to identify CGRP-Cre-channelrhodopsin expression'\n",
    "title = 'IHC staining CGRP-Cre-channelrhodopsin expression'\n",
    "path = 'https://docs.google.com/document/d/1vYOB1QucsT6FDCuiZoTl3JB1LAY9EwFXwrx8AgETMYc/edit?usp=sharing'\n",
    "main = 2\n",
    "author = 'Jun Zhao'\n",
    "ntype = 'analysis'"
   ]
  },
  {
   "cell_type": "code",
   "execution_count": 10,
   "metadata": {},
   "outputs": [],
   "source": [
    "cur = conn.cursor()\n",
    "cur.execute(\n",
    "\"\"\"\n",
    "INSERT INTO projects_nb (author, description, path, title, main, type)\n",
    "VALUES (%s, %s, %s, %s, %s, %s)\n",
    "\"\"\", (author, des, path, title, main, ntype)\n",
    ")\n",
    "conn.commit()"
   ]
  },
  {
   "cell_type": "markdown",
   "metadata": {},
   "source": [
    "## If you want to login a tech document, go in this section."
   ]
  },
  {
   "cell_type": "code",
   "execution_count": 9,
   "metadata": {},
   "outputs": [],
   "source": [
    "title = 'Immunohistochemistry staining to identify transgenic channelrhodopsin-2/tdTomato expression'\n",
    "path = 'https://docs.google.com/document/d/11O8gtkt8aRfbZNopCQia5p_i2BTryax-JE1nZzaatRM/edit?usp=sharing'\n",
    "nbtype = 'IHC' # IHC\n",
    "author = 'Jun Zhao'"
   ]
  },
  {
   "cell_type": "code",
   "execution_count": 10,
   "metadata": {},
   "outputs": [],
   "source": [
    "cur = conn.cursor()\n",
    "cur.execute(\n",
    "\"\"\"\n",
    "INSERT INTO projects_nb (path, title, type, author, main)\n",
    "VALUES (%s, %s, %s, %s, 4)\n",
    "\"\"\", (path, title, nbtype, author)\n",
    ")\n",
    "conn.commit()"
   ]
  },
  {
   "cell_type": "code",
   "execution_count": 6,
   "metadata": {},
   "outputs": [],
   "source": [
    "conn.rollback()"
   ]
  },
  {
   "cell_type": "code",
   "execution_count": null,
   "metadata": {},
   "outputs": [],
   "source": []
  }
 ],
 "metadata": {
  "kernelspec": {
   "display_name": "lab",
   "language": "python",
   "name": "lab"
  },
  "language_info": {
   "codemirror_mode": {
    "name": "ipython",
    "version": 3
   },
   "file_extension": ".py",
   "mimetype": "text/x-python",
   "name": "python",
   "nbconvert_exporter": "python",
   "pygments_lexer": "ipython3",
   "version": "3.7.4"
  }
 },
 "nbformat": 4,
 "nbformat_minor": 4
}
