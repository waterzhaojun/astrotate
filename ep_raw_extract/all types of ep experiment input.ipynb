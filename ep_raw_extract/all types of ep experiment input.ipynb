{
 "cells": [
  {
   "cell_type": "code",
   "execution_count": 1,
   "metadata": {},
   "outputs": [],
   "source": [
    "import pandas as pd\n",
    "import json\n",
    "import os\n",
    "import numpy as np\n",
    "import matplotlib.pyplot as pplot\n",
    "# from expinput import array, ep, utils\n",
    "import importlib\n",
    "import shutil"
   ]
  },
  {
   "cell_type": "code",
   "execution_count": null,
   "metadata": {},
   "outputs": [],
   "source": [
    "importlib.reload(ep)\n",
    "importlib.reload(utils)"
   ]
  },
  {
   "cell_type": "code",
   "execution_count": 1,
   "metadata": {},
   "outputs": [
    {
     "name": "stdout",
     "output_type": "stream",
     "text": [
      "usage: git [--version] [--help] [-C <path>] [-c <name>=<value>]\n",
      "           [--exec-path[=<path>]] [--html-path] [--man-path] [--info-path]\n",
      "           [-p | --paginate | -P | --no-pager] [--no-replace-objects] [--bare]\n",
      "           [--git-dir=<path>] [--work-tree=<path>] [--namespace=<name>]\n",
      "           <command> [<args>]\n",
      "\n",
      "These are common Git commands used in various situations:\n",
      "\n",
      "start a working area (see also: git help tutorial)\n",
      "   clone     Clone a repository into a new directory\n",
      "   init      Create an empty Git repository or reinitialize an existing one\n",
      "\n",
      "work on the current change (see also: git help everyday)\n",
      "   add       Add file contents to the index\n",
      "   mv        Move or rename a file, a directory, or a symlink\n",
      "   restore   Restore working tree files\n",
      "   rm        Remove files from the working tree and from the index\n",
      "\n",
      "examine the history and state (see also: git help revisions)\n",
      "   bisect    Use binary search to find the commit that introduced a bug\n",
      "   diff      Show changes between commits, commit and working tree, etc\n",
      "   grep      Print lines matching a pattern\n",
      "   log       Show commit logs\n",
      "   show      Show various types of objects\n",
      "   status    Show the working tree status\n",
      "\n",
      "grow, mark and tweak your common history\n",
      "   branch    List, create, or delete branches\n",
      "   commit    Record changes to the repository\n",
      "   merge     Join two or more development histories together\n",
      "   rebase    Reapply commits on top of another base tip\n",
      "   reset     Reset current HEAD to the specified state\n",
      "   switch    Switch branches\n",
      "   tag       Create, list, delete or verify a tag object signed with GPG\n",
      "\n",
      "collaborate (see also: git help workflows)\n",
      "   fetch     Download objects and refs from another repository\n",
      "   pull      Fetch from and integrate with another repository or a local branch\n",
      "   push      Update remote refs along with associated objects\n",
      "\n",
      "'git help -a' and 'git help -g' list available subcommands and some\n",
      "concept guides. See 'git help <command>' or 'git help <concept>'\n",
      "to read about a specific subcommand or concept.\n",
      "See 'git help git' for an overview of the system.\n"
     ]
    }
   ],
   "source": [
    "!git\n"
   ]
  },
  {
   "cell_type": "markdown",
   "metadata": {},
   "source": [
    "# Define the experiment folder"
   ]
  },
  {
   "cell_type": "code",
   "execution_count": 3,
   "metadata": {},
   "outputs": [],
   "source": [
    "exp_date = '190923' # <==== set experiment date as folder name.\n",
    "\n",
    "exp_folder = 'C:\\\\Shared_Experimental_Data' # Don't need to change if you use it in this computer.\n",
    "\n",
    "# ===================don't change below part =======================================================\n",
    "today_folder = os.path.join(exp_folder, exp_date)  \n",
    "template_file = 'data_log_template.xlsx'\n",
    "target_template_file = os.path.join(today_folder, template_file)\n",
    "shutil.copyfile(template_file, target_template_file)"
   ]
  },
  {
   "cell_type": "markdown",
   "metadata": {},
   "source": [
    "## please fill the form then run the next step"
   ]
  },
  {
   "cell_type": "code",
   "execution_count": 4,
   "metadata": {},
   "outputs": [],
   "source": [
    "treatment_df = pd.read_excel(target_template_file, sheet_name = 'treatment').astype({'trial': 'str'})\n",
    "trial_df = pd.read_excel(target_template_file, sheet_name = 'trials').astype({'trial': 'str'})\n",
    "channel_df = pd.read_excel(target_template_file, sheet_name = 'channel').dropna(subset=['channel_name'], inplace=False)"
   ]
  },
  {
   "cell_type": "code",
   "execution_count": 5,
   "metadata": {},
   "outputs": [
    {
     "data": {
      "text/html": [
       "<div>\n",
       "<style scoped>\n",
       "    .dataframe tbody tr th:only-of-type {\n",
       "        vertical-align: middle;\n",
       "    }\n",
       "\n",
       "    .dataframe tbody tr th {\n",
       "        vertical-align: top;\n",
       "    }\n",
       "\n",
       "    .dataframe thead th {\n",
       "        text-align: right;\n",
       "    }\n",
       "</style>\n",
       "<table border=\"1\" class=\"dataframe\">\n",
       "  <thead>\n",
       "    <tr style=\"text-align: right;\">\n",
       "      <th></th>\n",
       "      <th>trial</th>\n",
       "      <th>output_freq</th>\n",
       "      <th>kick_sec_pieces</th>\n",
       "    </tr>\n",
       "  </thead>\n",
       "  <tbody>\n",
       "    <tr>\n",
       "      <th>0</th>\n",
       "      <td>2441</td>\n",
       "      <td>1000</td>\n",
       "      <td>NaN</td>\n",
       "    </tr>\n",
       "    <tr>\n",
       "      <th>1</th>\n",
       "      <td>2442</td>\n",
       "      <td>1000</td>\n",
       "      <td>NaN</td>\n",
       "    </tr>\n",
       "    <tr>\n",
       "      <th>2</th>\n",
       "      <td>2443</td>\n",
       "      <td>1000</td>\n",
       "      <td>NaN</td>\n",
       "    </tr>\n",
       "    <tr>\n",
       "      <th>3</th>\n",
       "      <td>2444</td>\n",
       "      <td>1000</td>\n",
       "      <td>NaN</td>\n",
       "    </tr>\n",
       "    <tr>\n",
       "      <th>4</th>\n",
       "      <td>2445</td>\n",
       "      <td>1000</td>\n",
       "      <td>NaN</td>\n",
       "    </tr>\n",
       "    <tr>\n",
       "      <th>5</th>\n",
       "      <td>2446</td>\n",
       "      <td>1000</td>\n",
       "      <td>NaN</td>\n",
       "    </tr>\n",
       "    <tr>\n",
       "      <th>6</th>\n",
       "      <td>2447</td>\n",
       "      <td>1000</td>\n",
       "      <td>NaN</td>\n",
       "    </tr>\n",
       "  </tbody>\n",
       "</table>\n",
       "</div>"
      ],
      "text/plain": [
       "  trial  output_freq  kick_sec_pieces\n",
       "0  2441         1000              NaN\n",
       "1  2442         1000              NaN\n",
       "2  2443         1000              NaN\n",
       "3  2444         1000              NaN\n",
       "4  2445         1000              NaN\n",
       "5  2446         1000              NaN\n",
       "6  2447         1000              NaN"
      ]
     },
     "execution_count": 5,
     "metadata": {},
     "output_type": "execute_result"
    }
   ],
   "source": [
    "trial_df"
   ]
  },
  {
   "cell_type": "code",
   "execution_count": 20,
   "metadata": {},
   "outputs": [],
   "source": [
    "def bint1D(array, binsize, setint = False):\n",
    "    # smooth 1D array\n",
    "    remains = len(array) % binsize\n",
    "    array1 = np.reshape(array[0:len(array)-remains], [-1, binsize])\n",
    "    array2 = np.mean(array1, axis = 1)\n",
    "    if remains > binsize/2:\n",
    "        array2 = np.append(array2, np.mean(array[-remains:]))\n",
    "    if setint:\n",
    "        array2 = np.around(array2).astype(int)\n",
    "    return(array2)\n",
    "\n",
    "def get_array(expfolder = today_folder, treatment_df = treatment_df, trial_df = trial_df, channel_df = channel_df):\n",
    "    \n",
    "    #treatment_df = treatment_df.astype({'trial': 'str'}) # after load from csv, the trial is int64\n",
    "    trials = os.listdir(expfolder)\n",
    "    required_trials = [str(x)+'.txt' for x in trial_df.loc[:, 'trial'].values]\n",
    "    files = [os.path.join(expfolder,x) for x in trials if x.split('-')[-1] in required_trials]\n",
    "    \n",
    "    files.sort()\n",
    "    data = {}\n",
    "    for i in range(len(channel_df)):\n",
    "        data[channel_df.loc[i, 'data_type']] = {'present_length':0, 'data':[], 'treat_point': {}}\n",
    "        channel = channel_df.loc[i, 'channel_name']\n",
    "        scanRate = channel_df.loc[i, 'output_bin_secsize']\n",
    "        print('start to extract %s data' % channel_df.loc[i, 'data_type'])\n",
    "\n",
    "        for j in range(len(files)):\n",
    "            file = files[j]\n",
    "            outputRate = trial_df.loc[i, 'output_freq']\n",
    "            df = pd.read_csv(file, sep = '\\t')\n",
    "            values = df.loc[:, channel].values\n",
    "            values = values[~np.isnan(values)]\n",
    "            values = bint1D(values, int(scanRate*outputRate), setint = (channel in ['multiunit']))\n",
    "            data[channel_df.loc[i, 'data_type']]['data'] = np.append(data[channel_df.loc[i, 'data_type']]['data'], values)\n",
    "\n",
    "            tmp_trial = file.split('-')[-1][0:-4]\n",
    "            #timepoint_df.loc[len(timepoint_df), :] = [tmp_trial, len(values)]\n",
    "            print('%s done, length is %d' % (file, len(values)))\n",
    "            if tmp_trial in treatment_df.loc[:, 'trial'].tolist():\n",
    "                tmp_row = treatment_df.index[treatment_df.loc[:, 'trial'] == tmp_trial].tolist()[0]\n",
    "                tmp_id = str(treatment_df.loc[tmp_row, 'treatment_id'])\n",
    "                tmp_sec = treatment_df.loc[tmp_row, 'sec']#.value#astype(float)\n",
    "                data[channel_df.loc[i, 'data_type']]['treat_point'][tmp_id] = data[channel_df.loc[i, 'data_type']]['present_length'] + int(tmp_sec/outputRate)\n",
    "\n",
    "            data[channel_df.loc[i, 'data_type']]['present_length'] = data[channel_df.loc[i, 'data_type']]['present_length'] + len(values)\n",
    "    return(data)\n",
    "    "
   ]
  },
  {
   "cell_type": "code",
   "execution_count": 21,
   "metadata": {},
   "outputs": [
    {
     "name": "stdout",
     "output_type": "stream",
     "text": [
      "start to extract {'present_length': 0, 'data': [], 'treat_point': {}} data\n",
      "C:\\Shared_Experimental_Data\\190923\\spon-Sep-23-19-13-35-2441.txt done, length is 360\n",
      "C:\\Shared_Experimental_Data\\190923\\spon-Sep-23-19-14-05-2442.txt done, length is 360\n",
      "C:\\Shared_Experimental_Data\\190923\\spon-Sep-23-19-14-36-2443.txt done, length is 360\n",
      "C:\\Shared_Experimental_Data\\190923\\spon-Sep-23-19-15-07-2444.txt done, length is 360\n",
      "C:\\Shared_Experimental_Data\\190923\\spon-Sep-23-19-15-41-2445.txt done, length is 360\n",
      "C:\\Shared_Experimental_Data\\190923\\spon-Sep-23-19-16-11-2446.txt done, length is 360\n",
      "C:\\Shared_Experimental_Data\\190923\\spon-Sep-23-19-16-42-2447.txt done, length is 360\n",
      "start to extract {'present_length': 0, 'data': [], 'treat_point': {}} data\n",
      "C:\\Shared_Experimental_Data\\190923\\spon-Sep-23-19-13-35-2441.txt done, length is 1800\n",
      "C:\\Shared_Experimental_Data\\190923\\spon-Sep-23-19-14-05-2442.txt done, length is 1800\n",
      "C:\\Shared_Experimental_Data\\190923\\spon-Sep-23-19-14-36-2443.txt done, length is 1800\n",
      "C:\\Shared_Experimental_Data\\190923\\spon-Sep-23-19-15-07-2444.txt done, length is 1800\n",
      "C:\\Shared_Experimental_Data\\190923\\spon-Sep-23-19-15-41-2445.txt done, length is 1800\n",
      "C:\\Shared_Experimental_Data\\190923\\spon-Sep-23-19-16-11-2446.txt done, length is 1800\n",
      "C:\\Shared_Experimental_Data\\190923\\spon-Sep-23-19-16-42-2447.txt done, length is 1800\n",
      "start to extract {'present_length': 0, 'data': [], 'treat_point': {}} data\n",
      "C:\\Shared_Experimental_Data\\190923\\spon-Sep-23-19-13-35-2441.txt done, length is 1800262\n",
      "C:\\Shared_Experimental_Data\\190923\\spon-Sep-23-19-14-05-2442.txt done, length is 1800125\n",
      "C:\\Shared_Experimental_Data\\190923\\spon-Sep-23-19-14-36-2443.txt done, length is 1800073\n",
      "C:\\Shared_Experimental_Data\\190923\\spon-Sep-23-19-15-07-2444.txt done, length is 1800180\n",
      "C:\\Shared_Experimental_Data\\190923\\spon-Sep-23-19-15-41-2445.txt done, length is 1800158\n",
      "C:\\Shared_Experimental_Data\\190923\\spon-Sep-23-19-16-11-2446.txt done, length is 1800132\n",
      "C:\\Shared_Experimental_Data\\190923\\spon-Sep-23-19-16-42-2447.txt done, length is 1800120\n"
     ]
    }
   ],
   "source": [
    "data = get_array()"
   ]
  },
  {
   "cell_type": "code",
   "execution_count": 22,
   "metadata": {},
   "outputs": [
    {
     "data": {
      "text/plain": [
       "{'0': 0, '1': 720, '2': 1440}"
      ]
     },
     "execution_count": 22,
     "metadata": {},
     "output_type": "execute_result"
    }
   ],
   "source": [
    "data['bf']['treat_point']"
   ]
  },
  {
   "cell_type": "markdown",
   "metadata": {},
   "source": [
    "# Check the treatment points. If not available, input and save to the experiment folder"
   ]
  },
  {
   "cell_type": "code",
   "execution_count": 20,
   "metadata": {},
   "outputs": [],
   "source": [
    "treatment_df_path = os.path.join(exp_folder, 'treatment_df.csv')\n",
    "infoPath = os.path.join(exp_folder, 'info.json')\n",
    "\n",
    "need_create_treatment_df = False\n",
    "need_create_info = False\n",
    "\n",
    "if os.path.exists(treatment_df_path):\n",
    "    treatment_df = pd.read_csv(treatment_df_path, index_col = False)\n",
    "    print(treatment_df)\n",
    "    print('==== Load treatment_df successfully ====')\n",
    "    need_create_treatment_df = False\n",
    "else:\n",
    "    need_create_treatment_df = True\n",
    "    \n",
    "if os.path.exists(infoPath):\n",
    "    info = utils.readjson(infoPath)\n",
    "    print(info)\n",
    "    print('==== Load info successfully ====')\n",
    "    need_create_info = False\n",
    "else:\n",
    "    need_create_info = True\n",
    "    "
   ]
  },
  {
   "cell_type": "code",
   "execution_count": 21,
   "metadata": {},
   "outputs": [
    {
     "name": "stdout",
     "output_type": "stream",
     "text": [
      "{'treatment': {'0': {'method': 'baseline'}, '1': {'method': 'drug apply', 'activate_drug': 'Fluoroacetic acid', 'concentration': '100mM', 'activate_drug_solution': 'lactate 100mM', 'recovery': '45min', 'apply_method': 'topic', 'duration': '15min', 'wash_method': 'lactate 100mM'}, '2': {'method': 'CSD', 'apply_method': 'pinprick'}}}\n",
      "  treatment_id trial  sec\n",
      "0            0  2421    0\n",
      "1            1  2422  300\n",
      "2            2  2424  300\n"
     ]
    }
   ],
   "source": [
    "if need_create_treatment_df and need_create_info:\n",
    "    # ========== need to define the below timepoint for the data ===================================\n",
    "    treat = []\n",
    "    treat.append(ep.treatment_baseline())\n",
    "    #treat.append({'drug': 'FLCT', 'concentration': '20mM', 'place': 'topic', 'duration': '15 min'})\n",
    "    treat.append({'method':'drug apply', 'activate_drug': 'Fluoroacetic acid', 'concentration': '100mM', 'activate_drug_solution': 'lactate 100mM', 'recovery': '45min', 'apply_method': 'topic', 'duration': '15min', 'wash_method': 'lactate 100mM'})\n",
    "    treat.append(ep.treatment_csd())\n",
    "    treat = ep.treatment(treat)\n",
    "\n",
    "    info = {}\n",
    "    info['treatment'] = treat\n",
    "    print(info)\n",
    "    ep.update_info(infoPath, info)\n",
    "    \n",
    "    treatment_df = pd.DataFrame(columns = ['treatment_id', 'trial', 'sec'])\n",
    "    treatment_df.loc[len(treatment_df), :] = [0, '2421', 0] # <=========================== need to confirm\n",
    "    treatment_df.loc[len(treatment_df), :] = [1, '2422', 300] # <=========================== need to confirm\n",
    "    treatment_df.loc[len(treatment_df), :] = [2, '2424', 300]\n",
    "    # treatment_tp.loc[len(treatment_tp), :] = [3, '1890', 74]\n",
    "    # treatment_tp.loc[len(treatment_tp), :] = [4, '1890', 170]\n",
    "    print(treatment_df)\n",
    "    treatment_df.to_csv(treatment_df_path, index = False)"
   ]
  },
  {
   "cell_type": "markdown",
   "metadata": {},
   "source": [
    "# Load data. The second cell is very important."
   ]
  },
  {
   "cell_type": "code",
   "execution_count": 30,
   "metadata": {},
   "outputs": [
    {
     "name": "stdout",
     "output_type": "stream",
     "text": [
      "['Time' '7 highC' '2 untitled' '1 BF']\n"
     ]
    }
   ],
   "source": [
    "# check which channels are available in the txt file.\n",
    "ep.check_channel_name(exp_folder, 2424)"
   ]
  },
  {
   "cell_type": "code",
   "execution_count": 37,
   "metadata": {},
   "outputs": [
    {
     "name": "stdout",
     "output_type": "stream",
     "text": [
      "bf.csv\n"
     ]
    }
   ],
   "source": [
    "scan_rate = 1000       # <=================================================================== please confirm\n",
    "output_rate = 0.2        # <=================================================================== please confirm\n",
    "startTrial = 2423      # <================================= please confirm\n",
    "endTrial = 2426       # <================================= please confirm\n",
    "channel = '1 BF'   # <==================================================================== please confirm\n",
    "\n",
    "# output_file_name = ep.file_format('multi unit', extend = str(output_rate)+'hz')\n",
    "# output_file_name = ep.file_format('bf')\n",
    "output_file_name = ep.file_format('bf')\n",
    "print(output_file_name)"
   ]
  },
  {
   "cell_type": "code",
   "execution_count": 46,
   "metadata": {},
   "outputs": [
    {
     "data": {
      "text/plain": [
       "{'bf': [], 'multiunit': [], 'ECoG': []}"
      ]
     },
     "execution_count": 46,
     "metadata": {},
     "output_type": "execute_result"
    }
   ],
   "source": [
    "data"
   ]
  },
  {
   "cell_type": "code",
   "execution_count": 38,
   "metadata": {},
   "outputs": [
    {
     "name": "stdout",
     "output_type": "stream",
     "text": [
      "spon-Aug-14-19-16-22-2423.txt done, length is 360\n",
      "spon-Aug-14-19-16-53-2424.txt done, length is 360\n",
      "spon-Aug-14-19-17-23-2425.txt done, length is 360\n",
      "spon-Aug-14-19-17-53-2426.txt done, length is 338\n",
      "{'2': 420}\n"
     ]
    }
   ],
   "source": [
    "# importlib.reload(ep)\n",
    "data, treat_point = ep.get_array(exp_folder, \n",
    "                                 startTrial = startTrial,\n",
    "                                 endTrial = endTrial,\n",
    "                                 channel = channel,\n",
    "                                 scanRate = scan_rate,\n",
    "                                 outputRate = output_rate,\n",
    "                                 treatment_df = treatment_df\n",
    "                                )\n",
    "print(treat_point)"
   ]
  },
  {
   "cell_type": "code",
   "execution_count": 39,
   "metadata": {},
   "outputs": [
    {
     "name": "stdout",
     "output_type": "stream",
     "text": [
      "(1418,)\n"
     ]
    },
    {
     "data": {
      "text/plain": [
       "[<matplotlib.lines.Line2D at 0x572a030>]"
      ]
     },
     "execution_count": 39,
     "metadata": {},
     "output_type": "execute_result"
    },
    {
     "data": {
      "image/png": "[encoded data removed]",
      "text/plain": [
       "<Figure size 432x288 with 1 Axes>"
      ]
     },
     "metadata": {
      "needs_background": "light"
     },
     "output_type": "display_data"
    }
   ],
   "source": [
    "print(np.shape(data))\n",
    "pplot.plot(data)"
   ]
  },
  {
   "cell_type": "code",
   "execution_count": 40,
   "metadata": {},
   "outputs": [],
   "source": [
    "np.savetxt(os.path.join(exp_folder, output_file_name), data, fmt='%.4e', delimiter=\",\")"
   ]
  },
  {
   "cell_type": "markdown",
   "metadata": {},
   "source": [
    "# Start to define the timepoint"
   ]
  },
  {
   "cell_type": "code",
   "execution_count": 41,
   "metadata": {},
   "outputs": [
    {
     "name": "stdout",
     "output_type": "stream",
     "text": [
      "{'bf': {'treat_point': {'2': 420}, 'file_path': 'bf.csv', 'bin_size': '5.0sec'}}\n"
     ]
    }
   ],
   "source": [
    "# should be very careful =======================================================================================\n",
    "info = {}\n",
    "# info['multiUnit'] = {'treat_point': treat_point, 'file_path': output_file_name, 'bin_size': str(1/output_rate)+'sec'}\n",
    "info['bf'] = {'treat_point': treat_point, 'file_path': output_file_name, 'bin_size': str(1/output_rate)+'sec'}\n",
    "# info['ECoG'] = {'treat_point': treat_point, 'file_path': output_file_name, 'bin_size': str(1/output_rate)+'sec'}\n",
    "print(info)\n"
   ]
  },
  {
   "cell_type": "code",
   "execution_count": 42,
   "metadata": {},
   "outputs": [],
   "source": [
    "ep.update_info(infoPath, info)"
   ]
  },
  {
   "cell_type": "code",
   "execution_count": null,
   "metadata": {},
   "outputs": [],
   "source": []
  }
 ],
 "metadata": {
  "kernelspec": {
   "display_name": "Python 3",
   "language": "python",
   "name": "python3"
  },
  "language_info": {
   "codemirror_mode": {
    "name": "ipython",
    "version": 3
   },
   "file_extension": ".py",
   "mimetype": "text/x-python",
   "name": "python",
   "nbconvert_exporter": "python",
   "pygments_lexer": "ipython3",
   "version": "3.7.0"
  }
 },
 "nbformat": 4,
 "nbformat_minor": 2
}
