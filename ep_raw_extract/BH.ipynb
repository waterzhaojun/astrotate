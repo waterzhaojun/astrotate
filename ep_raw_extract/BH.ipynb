{
 "cells": [
  {
   "cell_type": "code",
   "execution_count": 55,
   "metadata": {},
   "outputs": [],
   "source": [
    "from astrotate import treatment, server, utils, behavior\n",
    "import psycopg2\n",
    "import importlib\n",
    "import json\n",
    "import os\n",
    "from datetime import datetime"
   ]
  },
  {
   "cell_type": "code",
   "execution_count": 16,
   "metadata": {},
   "outputs": [
    {
     "data": {
      "text/plain": [
       "<module 'astrotate.treatment' from '/Users/Melody/Documents/projects/astrotate/treatment.py'>"
      ]
     },
     "execution_count": 16,
     "metadata": {},
     "output_type": "execute_result"
    }
   ],
   "source": [
    "importlib.reload(treatment)"
   ]
  },
  {
   "cell_type": "code",
   "execution_count": 56,
   "metadata": {},
   "outputs": [
    {
     "name": "stdout",
     "output_type": "stream",
     "text": [
      "Choose the treatment type you want to enter: \n",
      "0 ---> Baseline\n",
      "1 ---> Sham\n",
      "2 ---> CSD\n",
      "3 ---> Drug\n",
      "4 ---> OptoStimulation\n"
     ]
    },
    {
     "name": "stdin",
     "output_type": "stream",
     "text": [
      "Select by idx:  0\n",
      "=== baseline treatment start time.===\n",
      "Press Enter to leave it blank. Input 1 for present time. Input HH:MM for certain time:  \n",
      "=== baseline treatment start date.===\n",
      "Press Enter to ignore this.\n",
      "Input 1 for today.\n",
      "Input mm-dd-yyyy for detail date:  \n"
     ]
    },
    {
     "name": "stdout",
     "output_type": "stream",
     "text": [
      "Treatment operator:  Press Enter for Jun Zhao\n",
      "0 ---> Jun Zhao\n",
      "1 ---> Dara Bree\n",
      "2 ---> Andrew Blaeser\n"
     ]
    },
    {
     "name": "stdin",
     "output_type": "stream",
     "text": [
      "Select by idx:  \n",
      "input your note for baseline treatment:  \n"
     ]
    },
    {
     "name": "stdout",
     "output_type": "stream",
     "text": [
      "More treatment? Press Enter for True\n",
      "0 ---> False\n",
      "1 ---> True\n"
     ]
    },
    {
     "name": "stdin",
     "output_type": "stream",
     "text": [
      "Select by idx:  1\n"
     ]
    },
    {
     "name": "stdout",
     "output_type": "stream",
     "text": [
      "Choose the treatment type you want to enter: \n",
      "0 ---> Baseline\n",
      "1 ---> Sham\n",
      "2 ---> CSD\n",
      "3 ---> Drug\n",
      "4 ---> OptoStimulation\n"
     ]
    },
    {
     "name": "stdin",
     "output_type": "stream",
     "text": [
      "Select by idx:  4\n",
      "=== opto stimulation treatment start time.===\n",
      "Press Enter to leave it blank. Input 1 for present time. Input HH:MM for certain time:  \n",
      "=== opto stimulation treatment start date.===\n",
      "Press Enter to ignore this.\n",
      "Input 1 for today.\n",
      "Input mm-dd-yyyy for detail date:  \n"
     ]
    },
    {
     "name": "stdout",
     "output_type": "stream",
     "text": [
      "Treatment operator:  Press Enter for Jun Zhao\n",
      "0 ---> Jun Zhao\n",
      "1 ---> Dara Bree\n",
      "2 ---> Andrew Blaeser\n"
     ]
    },
    {
     "name": "stdin",
     "output_type": "stream",
     "text": [
      "Select by idx:  \n",
      "input your note for opto stimulation treatment:  \n",
      "Stimulation duration (sec, input an int):  300\n",
      "opto stimulation power. (input an int number for percentage int part): 100\n"
     ]
    },
    {
     "name": "stdout",
     "output_type": "stream",
     "text": [
      "Choose stimulation type: \n",
      "0 ---> continue\n",
      "1 ---> discrete\n"
     ]
    },
    {
     "name": "stdin",
     "output_type": "stream",
     "text": [
      "Select by idx:  1\n",
      "stimulation frequency. unit is Hz. input a float number:  5\n",
      "Width of the stimulation, unit is sec. input a float number:  0.01\n"
     ]
    },
    {
     "name": "stdout",
     "output_type": "stream",
     "text": [
      "More treatment? Press Enter for True\n",
      "0 ---> False\n",
      "1 ---> True\n"
     ]
    },
    {
     "name": "stdin",
     "output_type": "stream",
     "text": [
      "Select by idx:  1\n"
     ]
    },
    {
     "name": "stdout",
     "output_type": "stream",
     "text": [
      "Choose the treatment type you want to enter: \n",
      "0 ---> Baseline\n",
      "1 ---> Sham\n",
      "2 ---> CSD\n",
      "3 ---> Drug\n",
      "4 ---> OptoStimulation\n"
     ]
    },
    {
     "name": "stdin",
     "output_type": "stream",
     "text": [
      "Select by idx:  1\n",
      "=== sham treatment start time.===\n",
      "Press Enter to leave it blank. Input 1 for present time. Input HH:MM for certain time:  \n",
      "=== sham treatment start date.===\n",
      "Press Enter to ignore this.\n",
      "Input 1 for today.\n",
      "Input mm-dd-yyyy for detail date:  \n"
     ]
    },
    {
     "name": "stdout",
     "output_type": "stream",
     "text": [
      "Treatment operator:  Press Enter for Jun Zhao\n",
      "0 ---> Jun Zhao\n",
      "1 ---> Dara Bree\n",
      "2 ---> Andrew Blaeser\n"
     ]
    },
    {
     "name": "stdin",
     "output_type": "stream",
     "text": [
      "Select by idx:  \n",
      "input your note for sham treatment:  \n"
     ]
    },
    {
     "name": "stdout",
     "output_type": "stream",
     "text": [
      "More treatment? Press Enter for True\n",
      "0 ---> False\n",
      "1 ---> True\n"
     ]
    },
    {
     "name": "stdin",
     "output_type": "stream",
     "text": [
      "Select by idx:  0\n"
     ]
    }
   ],
   "source": [
    "# In this step, create a dict t for treatment steps.\n",
    "t = treatment.create_treatment_with_timepoint()"
   ]
  },
  {
   "cell_type": "code",
   "execution_count": 62,
   "metadata": {},
   "outputs": [],
   "source": [
    "animalid = 'MTG014'\n",
    "date = '2-24-2020'\n",
    "exptype = ['WHEELRUNNING', 'FACEVIDEO']\n",
    "\n",
    "parameters = {}\n",
    "parameters['WHEELRUNNING'] = {'freq': 10}\n",
    "parameters['FACEVIDEO'] = {}\n",
    "\n",
    "# confirm the valuables above this line ==============================================\n",
    "path = os.path.join(animalid, datetime.strptime(date, '%m-%d-%Y').strftime('%y%m%d'))"
   ]
  },
  {
   "cell_type": "code",
   "execution_count": 60,
   "metadata": {},
   "outputs": [],
   "source": [
    "conn = server.connect_server()"
   ]
  },
  {
   "cell_type": "code",
   "execution_count": 63,
   "metadata": {},
   "outputs": [],
   "source": [
    "cur = conn.cursor()\n",
    "cur.execute(\n",
    "    \"\"\"\n",
    "    INSERT INTO bh_info (animalid, date,parameters,path,recording_types,treatment)\n",
    "    VALUES (%s, %s, %s, %s, %s, %s)\n",
    "    \"\"\",\n",
    "    (animalid, date, json.dumps(parameters), path, exptype, json.dumps(t))\n",
    ")\n",
    "conn.commit()"
   ]
  },
  {
   "cell_type": "markdown",
   "metadata": {},
   "source": [
    "To further analysis the result, you can go to RESULT/BH folder to choose related method. Right now the analysis method list as below:\n",
    "wheel running: WHEELRUNNING"
   ]
  },
  {
   "cell_type": "code",
   "execution_count": null,
   "metadata": {},
   "outputs": [],
   "source": []
  }
 ],
 "metadata": {
  "kernelspec": {
   "display_name": "lab",
   "language": "python",
   "name": "lab"
  },
  "language_info": {
   "codemirror_mode": {
    "name": "ipython",
    "version": 3
   },
   "file_extension": ".py",
   "mimetype": "text/x-python",
   "name": "python",
   "nbconvert_exporter": "python",
   "pygments_lexer": "ipython3",
   "version": "3.7.4"
  }
 },
 "nbformat": 4,
 "nbformat_minor": 4
}
