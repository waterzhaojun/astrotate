{
 "cells": [
  {
   "cell_type": "code",
   "execution_count": 15,
   "metadata": {},
   "outputs": [],
   "source": [
    "import numpy as np\n",
    "import os\n",
    "import psycopg2"
   ]
  },
  {
   "cell_type": "code",
   "execution_count": 16,
   "metadata": {},
   "outputs": [],
   "source": [
    "conncommend = \"host='localhost' port=2345 dbname='expdata' user='postgres' password='psql123'\"\n",
    "conn = psycopg2.connect(conncommend)"
   ]
  },
  {
   "cell_type": "code",
   "execution_count": 25,
   "metadata": {},
   "outputs": [],
   "source": [
    "root = 'D:\\\\Jun\\\\lab_data\\\\data\\EP\\\\O2_by_eprobe\\\\raw'"
   ]
  },
  {
   "cell_type": "code",
   "execution_count": 26,
   "metadata": {},
   "outputs": [],
   "source": [
    "files = os.listdir(root)"
   ]
  },
  {
   "cell_type": "code",
   "execution_count": 30,
   "metadata": {},
   "outputs": [
    {
     "data": {
      "text/plain": [
       "(1312,)"
      ]
     },
     "execution_count": 30,
     "metadata": {},
     "output_type": "execute_result"
    }
   ],
   "source": [
    "tmp = np.loadtxt(os.path.join(root, files[0]))\n",
    "np.shape(tmp)"
   ]
  },
  {
   "cell_type": "code",
   "execution_count": 28,
   "metadata": {},
   "outputs": [],
   "source": [
    "files = [x for x in files if x[-3:] == 'csv']"
   ]
  },
  {
   "cell_type": "code",
   "execution_count": 31,
   "metadata": {},
   "outputs": [],
   "source": [
    "for file in files:\n",
    "    data = np.loadtxt(os.path.join(root, file))\n",
    "    data = np.reshape(data, [1, -1])\n",
    "    shape = np.shape(data)\n",
    "    shape = str(shape).replace('(', '{').replace(')', '}').replace('\\'', '\\\"')\n",
    "    newname = 'epoxygen'+file[0:-4]\n",
    "    np.save('D:\\\\expdata\\\\EP\\\\O2\\\\' + newname +'.npy', data)\n",
    "    \n",
    "    cur = conn.cursor()\n",
    "    cur.execute(\n",
    "        \"\"\"\n",
    "        INSERT INTO data_ep\n",
    "        values ('{}', 0.2, '{}', '{}', 'O2')\n",
    "        \"\"\".format(newname, shape, 'O2\\\\'+newname+'.npy')\n",
    "    )\n",
    "    conn.commit()"
   ]
  },
  {
   "cell_type": "code",
   "execution_count": 23,
   "metadata": {},
   "outputs": [],
   "source": [
    "cur = conn.cursor()\n",
    "cur.execute('rollback;')\n",
    "conn.commit()"
   ]
  },
  {
   "cell_type": "code",
   "execution_count": null,
   "metadata": {},
   "outputs": [],
   "source": []
  }
 ],
 "metadata": {
  "kernelspec": {
   "display_name": "Python 3",
   "language": "python",
   "name": "python3"
  },
  "language_info": {
   "codemirror_mode": {
    "name": "ipython",
    "version": 3
   },
   "file_extension": ".py",
   "mimetype": "text/x-python",
   "name": "python",
   "nbconvert_exporter": "python",
   "pygments_lexer": "ipython3",
   "version": "3.6.7"
  }
 },
 "nbformat": 4,
 "nbformat_minor": 2
}
