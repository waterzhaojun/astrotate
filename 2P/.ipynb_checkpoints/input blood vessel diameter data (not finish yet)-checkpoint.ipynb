{
 "cells": [
  {
   "cell_type": "code",
   "execution_count": 47,
   "metadata": {},
   "outputs": [],
   "source": [
    "import psycopg2\n",
    "import numpy as np\n",
    "import datetime\n",
    "import pandas as pd\n",
    "import scipy.io as sio\n",
    "import matplotlib.pyplot as pplot\n",
    "import os"
   ]
  },
  {
   "cell_type": "code",
   "execution_count": 34,
   "metadata": {},
   "outputs": [],
   "source": [
    "conncommend = \"host='localhost' port=2345 dbname='expdata' user='postgres' password='psql123'\"\n",
    "conn = psycopg2.connect(conncommend)"
   ]
  },
  {
   "cell_type": "code",
   "execution_count": 101,
   "metadata": {},
   "outputs": [],
   "source": [
    "root = 'D:\\\\expdata\\\\DL134\\\\190227_DL134'\n",
    "BVDIAM = 'D:\\\\expdata\\\\2P\\\\BVDIAM'\n",
    "WHEEL = 'D:\\\\expdata\\\\2P\\\\WHEEL'"
   ]
  },
  {
   "cell_type": "code",
   "execution_count": 49,
   "metadata": {},
   "outputs": [
    {
     "data": {
      "text/plain": [
       "'190227_DL134'"
      ]
     },
     "execution_count": 49,
     "metadata": {},
     "output_type": "execute_result"
    }
   ],
   "source": [
    "os.path.basename(root)"
   ]
  },
  {
   "cell_type": "code",
   "execution_count": 99,
   "metadata": {},
   "outputs": [],
   "source": [
    "def list2array(list):\n",
    "    tmp = str(list).replace('(', '{').replace(')', '}').replace('[', '{').replace(']', '}').replace('\\'', '\\\"')\n",
    "    return(tmp)\n",
    "\n",
    "def absoArray(array):\n",
    "    tmp = array[1:] - array[0:-1]\n",
    "    return(tmp)\n",
    "\n",
    "def wheeldata(root, runs):\n",
    "    data = []\n",
    "    basename = os.path.basename(root)\n",
    "    for run in runs:\n",
    "        runname = basename+'_run'+str(run)\n",
    "        runpath = os.path.join(root, runname)\n",
    "        runfile = [x for x in os.listdir(runpath) if '_quadrature.mat' in x]\n",
    "        runfile = runfile[0]\n",
    "        tmp = sio.loadmat(os.path.join(root, runname, runfile))\n",
    "        data = np.append(data, absoArray(tmp['quad_data'][0]))\n",
    "    return(data)\n",
    "\n",
    "def bvdata(root, runs, bvid):\n",
    "    data = []\n",
    "    basename = os.path.basename(root)\n",
    "    for run in runs:\n",
    "        runname = basename+'_run'+str(run)\n",
    "        runpath = os.path.join(root, runname, 'bv_'+str(bvid), 'result.mat')\n",
    "        tmp = sio.loadmat(runpath)\n",
    "        data = np.append(data, tmp['diameter_value'])\n",
    "    return(data)\n",
    "        \n",
    "def expfileid(animal, date, bvid):\n",
    "    ids = {}\n",
    "    ids['bv_file_id'] = 'bvd' + animalid+date.strftime('%y%m%d') + 'a' + str(bvid) + 'a'\n",
    "    ids['wheel_file_id'] = 'wheel' + animalid+date.strftime('%y%m%d') + 'a'\n",
    "    return(ids)\n",
    "    \n",
    "        \n",
    "    "
   ]
  },
  {
   "cell_type": "code",
   "execution_count": 16,
   "metadata": {},
   "outputs": [],
   "source": [
    "researcher = list2array(['Jun Zhao'])\n",
    "note = ''\n",
    "date = datetime.datetime.strptime('2-27-2019', '%m-%d-%Y')\n",
    "projectid = list2array([2])\n",
    "animalid = 'DL134'"
   ]
  },
  {
   "cell_type": "code",
   "execution_count": 105,
   "metadata": {},
   "outputs": [],
   "source": [
    "runs = [1,2]\n",
    "bvid = 1\n",
    "ids = expfileid(animalid, date, bvid)"
   ]
  },
  {
   "cell_type": "markdown",
   "metadata": {},
   "source": [
    "<h1> Update wheel data and return wheel data id"
   ]
  },
  {
   "cell_type": "code",
   "execution_count": 108,
   "metadata": {},
   "outputs": [],
   "source": [
    "data = wheeldata(root, runs)\n",
    "data = np.reshape(data, [1, -1])\n",
    "shape = list2array(np.shape(data))\n",
    "\n",
    "np.save(os.path.join(WHEEL, ids['wheel_file_id']+'.npy'), data)\n",
    "\n",
    "cur = conn.cursor()\n",
    "cur.execute(\n",
    "    \"\"\"\n",
    "    INSERT INTO data_2p\n",
    "    values ('{}', 15, '{}', '{}', 'WHEEL')\n",
    "    \"\"\".format(ids['wheel_file_id'], shape, 'WHEEL\\\\'+ids['wheel_file_id']+'.npy')\n",
    ")\n",
    "conn.commit()\n"
   ]
  },
  {
   "cell_type": "markdown",
   "metadata": {},
   "source": [
    "<h1> Update blood vessel diameter data and return blood vessel id"
   ]
  },
  {
   "cell_type": "code",
   "execution_count": 110,
   "metadata": {},
   "outputs": [],
   "source": [
    "bvid = 1\n",
    "hz = 3\n",
    "ids = expfileid(animalid, date, bvid)\n",
    "\n",
    "data = bvdata(root, runs, bvid)\n",
    "data = np.reshape(data, [1, -1])\n",
    "\n",
    "np.save(os.path.join(BVDIAM, ids['bv_file_id']+'.npy'), data)\n",
    "\n",
    "cur = conn.cursor()\n",
    "cur.execute(\n",
    "    \"\"\"\n",
    "    INSERT INTO data_2p\n",
    "    values ('{}', {}, '{}', '{}', 'BVDIAM')\n",
    "    \"\"\".format(ids['bv_file_id'], hz, shape, 'BVDIAM\\\\'+ids['wheel_file_id']+'.npy')\n",
    ")\n",
    "conn.commit()"
   ]
  },
  {
   "cell_type": "markdown",
   "metadata": {},
   "source": [
    "<h1> Update exp info"
   ]
  },
  {
   "cell_type": "code",
   "execution_count": 113,
   "metadata": {},
   "outputs": [],
   "source": [
    "datalog = []\n",
    "\n",
    "# blood vessel diameter\n",
    "datalog = np.append(datalog, {'record_type': 'blood vessel diameter', \n",
    "                              'bv_type': 'artery',\n",
    "                              'depth': 20,\n",
    "                              'bvid': bvid, \n",
    "                              'dataid': ids['bv_file_id'], \n",
    "                              'treatment': {'1': 2830}\n",
    "                             })\n",
    "                    \n",
    "# wheel running                  \n",
    "datalog = np.append(datalog, {'record_type': 'wheel running',\n",
    "                              'dataid': ids['wheel_file_id'],\n",
    "                              'treatment': {'0': 0, '1': 27900}\n",
    "                             })\n",
    "\n",
    "# treatment\n",
    "datalog = np.append(datalog, {'record_type': 'treatment',\n",
    "                              '0': {'method': 'baseline'}, \n",
    "                              '1': {'method':'CSD', 'csd_method': 'pinprick'}\n",
    "                             })"
   ]
  },
  {
   "cell_type": "code",
   "execution_count": 100,
   "metadata": {},
   "outputs": [
    {
     "data": {
      "text/plain": [
       "{'bv_file_id': 'bvdDL134190227a1a', 'wheel_file_id': 'wheelDL134190227a'}"
      ]
     },
     "execution_count": 100,
     "metadata": {},
     "output_type": "execute_result"
    }
   ],
   "source": [
    "expfileid(animalid, date, 1)"
   ]
  },
  {
   "cell_type": "code",
   "execution_count": 15,
   "metadata": {},
   "outputs": [
    {
     "data": {
      "text/plain": [
       "'{2}'"
      ]
     },
     "execution_count": 15,
     "metadata": {},
     "output_type": "execute_result"
    }
   ],
   "source": [
    "projectid"
   ]
  },
  {
   "cell_type": "code",
   "execution_count": 23,
   "metadata": {},
   "outputs": [],
   "source": [
    "data = []\n",
    "files = ['D:\\\\expdata\\\\DL134\\\\190227_DL134\\\\190227_DL134_run1\\\\bv_1\\\\result.mat', \n",
    "         'D:\\\\expdata\\\\DL134\\\\190227_DL134\\\\190227_DL134_run2\\\\bv_1\\\\result.mat']\n",
    "\n",
    "for file in files:\n",
    "    tmp = sio.loadmat(file)\n",
    "    data = np.append(data, tmp['diameter_value'])"
   ]
  },
  {
   "cell_type": "code",
   "execution_count": 21,
   "metadata": {},
   "outputs": [],
   "source": [
    "data1 = sio.loadmat('D:\\\\expdata\\\\DL134\\\\190227_DL134\\\\190227_DL134_run1\\\\bv_1\\\\result.mat')"
   ]
  },
  {
   "cell_type": "code",
   "execution_count": 22,
   "metadata": {},
   "outputs": [
    {
     "data": {
      "text/plain": [
       "{'__header__': b'MATLAB 5.0 MAT-file, Platform: PCWIN64, Created on: Thu Feb 28 10:31:58 2019',\n",
       " '__version__': '1.0',\n",
       " '__globals__': [],\n",
       " 'response_fig': array([[1715.56666667, 1539.83333333, 1527.63333333, ..., 1539.23333333,\n",
       "         1797.06666667, 2399.63333333],\n",
       "        [1792.31666667, 1795.39444444, 1550.29444444, ..., 1900.42777778,\n",
       "         1946.79444444, 1983.17222222],\n",
       "        [1758.85405405, 2049.03243243, 1764.51351351, ..., 2016.38918919,\n",
       "         2044.02162162, 2181.32432432],\n",
       "        ...,\n",
       "        [1921.19393939, 2337.90909091, 2373.55151515, ..., 3919.66666667,\n",
       "         2457.47878788, 2785.71515152],\n",
       "        [2097.74857143, 2533.93142857, 2527.22857143, ..., 2626.49714286,\n",
       "         2717.28571429, 2850.39428571],\n",
       "        [2178.21538462, 2521.18461538, 2954.64615385, ..., 3002.46153846,\n",
       "         2914.95384615, 2929.8       ]]),\n",
       " 'diameter_value': array([[45, 44, 43, ..., 72, 71, 72]], dtype=int16)}"
      ]
     },
     "execution_count": 22,
     "metadata": {},
     "output_type": "execute_result"
    }
   ],
   "source": [
    "data1"
   ]
  },
  {
   "cell_type": "code",
   "execution_count": 25,
   "metadata": {},
   "outputs": [
    {
     "data": {
      "text/plain": [
       "(11160,)"
      ]
     },
     "execution_count": 25,
     "metadata": {},
     "output_type": "execute_result"
    }
   ],
   "source": [
    "np.shape(data)"
   ]
  },
  {
   "cell_type": "code",
   "execution_count": 28,
   "metadata": {},
   "outputs": [
    {
     "data": {
      "text/plain": [
       "[<matplotlib.lines.Line2D at 0x1d4cf460be0>]"
      ]
     },
     "execution_count": 28,
     "metadata": {},
     "output_type": "execute_result"
    },
    {
     "data": {
      "image/png": "[encoded data removed]",
      "text/plain": [
       "<Figure size 432x288 with 1 Axes>"
      ]
     },
     "metadata": {
      "needs_background": "light"
     },
     "output_type": "display_data"
    }
   ],
   "source": [
    "pplot.plot(data[2709:2790+5580])"
   ]
  },
  {
   "cell_type": "code",
   "execution_count": null,
   "metadata": {},
   "outputs": [],
   "source": [
    "datalog = {}\n",
    "datalog['BVDIAM'] = {'dataid': expid, treatment = {'1': 0, '2': 2830}}\n",
    "datalog['WHEEL'] = \n",
    "datalog['treatment'] = {'0': {'method':'baseline'}, '1': {'method':'CSD', 'csd_method': 'pinprick'}}"
   ]
  },
  {
   "cell_type": "markdown",
   "metadata": {},
   "source": [
    "<h1> update data_2p"
   ]
  },
  {
   "cell_type": "code",
   "execution_count": 41,
   "metadata": {},
   "outputs": [],
   "source": [
    "expid = 'bvd'+animalid+date.strftime('%y%m%d')+'a1a'\n",
    "shape = list2array(np.shape(np.reshape(data[2709:2790+5580], [1, -1])))\n",
    "# np.save(BVDIAM+'\\\\'+expid, np.reshape(data[2709:2790+5580], [1, -1]))"
   ]
  },
  {
   "cell_type": "code",
   "execution_count": 44,
   "metadata": {},
   "outputs": [],
   "source": [
    "cur = conn.cursor()\n",
    "cur.execute(\n",
    "    \"\"\"\n",
    "    INSERT INTO data_2p\n",
    "    values ('{}', 3, '{}', '{}', 'BVDIAM')\n",
    "    \"\"\".format(expid, shape, 'BVDIAM\\\\'+expid+'.npy')\n",
    ")\n",
    "conn.commit()"
   ]
  },
  {
   "cell_type": "code",
   "execution_count": 144,
   "metadata": {},
   "outputs": [],
   "source": [
    "cur = conn.cursor()\n",
    "cur.execute('rollback;')\n",
    "conn.commit()"
   ]
  },
  {
   "cell_type": "code",
   "execution_count": null,
   "metadata": {},
   "outputs": [],
   "source": []
  },
  {
   "cell_type": "markdown",
   "metadata": {},
   "source": [
    "dsfsdfsfsdfsf"
   ]
  },
  {
   "cell_type": "code",
   "execution_count": 120,
   "metadata": {},
   "outputs": [],
   "source": [
    "tmp = 'D:\\\\Jun\\\\lab_data\\\\project\\\\neuron_character.csv'\n",
    "base = np.loadtxt(tmp, delimiter = ',', dtype = str) #[str, str, float, float, str, bool, bool, int, int, int, int, str, float, float, float]))"
   ]
  },
  {
   "cell_type": "code",
   "execution_count": 123,
   "metadata": {},
   "outputs": [
    {
     "data": {
      "text/plain": [
       "array(['N2013040101', 'C', '26', '', 'slowAdp', 'Y', '', '0', '1', '', '',\n",
       "       'A2013040101', '0.004444433', '', ''], dtype='<U32')"
      ]
     },
     "execution_count": 123,
     "metadata": {},
     "output_type": "execute_result"
    }
   ],
   "source": [
    "base[1]"
   ]
  },
  {
   "cell_type": "code",
   "execution_count": 136,
   "metadata": {},
   "outputs": [],
   "source": [
    "def fillnull(value):\n",
    "    if value == '':\n",
    "        return('null')\n",
    "    else:\n",
    "        return(value)\n",
    "    \n",
    "def yorn(value):\n",
    "    if value == 'Y':\n",
    "        return('true')\n",
    "    elif value == 'N':\n",
    "        return('false')\n",
    "    elif value == '':\n",
    "        return('null')"
   ]
  },
  {
   "cell_type": "code",
   "execution_count": 129,
   "metadata": {},
   "outputs": [
    {
     "ename": "ValueError",
     "evalue": "The truth value of an array with more than one element is ambiguous. Use a.any() or a.all()",
     "output_type": "error",
     "traceback": [
      "\u001b[1;31m---------------------------------------------------------------------------\u001b[0m",
      "\u001b[1;31mValueError\u001b[0m                                Traceback (most recent call last)",
      "\u001b[1;32m<ipython-input-129-0cf739889772>\u001b[0m in \u001b[0;36m<module>\u001b[1;34m\u001b[0m\n\u001b[1;32m----> 1\u001b[1;33m \u001b[0mbase1\u001b[0m \u001b[1;33m=\u001b[0m \u001b[0mfillnull\u001b[0m\u001b[1;33m(\u001b[0m\u001b[0mbase\u001b[0m\u001b[1;33m)\u001b[0m\u001b[1;33m\u001b[0m\u001b[1;33m\u001b[0m\u001b[0m\n\u001b[0m",
      "\u001b[1;32m<ipython-input-127-8c6b46eb1ce6>\u001b[0m in \u001b[0;36mfillnull\u001b[1;34m(value)\u001b[0m\n\u001b[0;32m      1\u001b[0m \u001b[1;32mdef\u001b[0m \u001b[0mfillnull\u001b[0m\u001b[1;33m(\u001b[0m\u001b[0mvalue\u001b[0m\u001b[1;33m)\u001b[0m\u001b[1;33m:\u001b[0m\u001b[1;33m\u001b[0m\u001b[1;33m\u001b[0m\u001b[0m\n\u001b[1;32m----> 2\u001b[1;33m     \u001b[1;32mif\u001b[0m \u001b[0mvalue\u001b[0m \u001b[1;33m==\u001b[0m \u001b[1;34m''\u001b[0m\u001b[1;33m:\u001b[0m\u001b[1;33m\u001b[0m\u001b[1;33m\u001b[0m\u001b[0m\n\u001b[0m\u001b[0;32m      3\u001b[0m         \u001b[1;32mreturn\u001b[0m\u001b[1;33m(\u001b[0m\u001b[1;34m'null'\u001b[0m\u001b[1;33m)\u001b[0m\u001b[1;33m\u001b[0m\u001b[1;33m\u001b[0m\u001b[0m\n\u001b[0;32m      4\u001b[0m     \u001b[1;32melse\u001b[0m\u001b[1;33m:\u001b[0m\u001b[1;33m\u001b[0m\u001b[1;33m\u001b[0m\u001b[0m\n\u001b[0;32m      5\u001b[0m         \u001b[1;32mreturn\u001b[0m\u001b[1;33m(\u001b[0m\u001b[0mvalue\u001b[0m\u001b[1;33m)\u001b[0m\u001b[1;33m\u001b[0m\u001b[1;33m\u001b[0m\u001b[0m\n",
      "\u001b[1;31mValueError\u001b[0m: The truth value of an array with more than one element is ambiguous. Use a.any() or a.all()"
     ]
    }
   ],
   "source": [
    "base1 = fillnull(base)"
   ]
  },
  {
   "cell_type": "code",
   "execution_count": 145,
   "metadata": {},
   "outputs": [],
   "source": [
    "for i in range(1, len(base)):\n",
    "    cur = conn.cursor()\n",
    "    cur.execute(\n",
    "        \"\"\"\n",
    "        INSERT INTO data_ep_singleneuron\n",
    "        values ('{}', {}, {}, '{}', {}, {}, {}, {}, {}, {}, '{}', {}, {}, {},'{}')\n",
    "        \"\"\".format(base[i][0], fillnull(base[i][2]), fillnull(base[i][3]), fillnull(base[i][4]), yorn(base[i][5]), \n",
    "                   yorn(base[i][6]), fillnull(base[i][7]), fillnull(base[i][8]), fillnull(base[i][9]), fillnull(base[i][10]),\n",
    "                   fillnull(base[i][11]), fillnull(base[i][12]), fillnull(base[i][13]), fillnull(base[i][14]), fillnull(base[i][1])\n",
    "                  )\n",
    "    )\n",
    "    conn.commit()"
   ]
  },
  {
   "cell_type": "code",
   "execution_count": null,
   "metadata": {},
   "outputs": [],
   "source": []
  }
 ],
 "metadata": {
  "kernelspec": {
   "display_name": "Python 3",
   "language": "python",
   "name": "python3"
  },
  "language_info": {
   "codemirror_mode": {
    "name": "ipython",
    "version": 3
   },
   "file_extension": ".py",
   "mimetype": "text/x-python",
   "name": "python",
   "nbconvert_exporter": "python",
   "pygments_lexer": "ipython3",
   "version": "3.6.7"
  }
 },
 "nbformat": 4,
 "nbformat_minor": 2
}
